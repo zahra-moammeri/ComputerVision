{
  "cells": [
    {
      "cell_type": "code",
      "execution_count": null,
      "metadata": {
        "id": "ZnQSETCcGvTc"
      },
      "outputs": [],
      "source": [
        "import numpy as np\n",
        "from keras.models import Sequential\n",
        "import tensorflow as tf\n",
        "from keras.layers import Dense, Flatten, Conv2D, MaxPooling2D, Dropout\n",
        "import matplotlib.pyplot as plt\n",
        "import time\n",
        "\n",
        "# from keras import metrics"
      ]
    },
    {
      "cell_type": "code",
      "execution_count": null,
      "metadata": {
        "id": "wm7newVgG2jt",
        "colab": {
          "base_uri": "https://localhost:8080/"
        },
        "outputId": "d222ec6f-84d2-4698-e0ac-5cf7888b2e29"
      },
      "outputs": [
        {
          "output_type": "stream",
          "name": "stdout",
          "text": [
            "Downloading data from https://www.cs.toronto.edu/~kriz/cifar-10-python.tar.gz\n",
            "170498071/170498071 [==============================] - 13s 0us/step\n"
          ]
        }
      ],
      "source": [
        "from keras.datasets import cifar10\n",
        "\n",
        "(x_train, y_train),(x_test, y_test) = cifar10.load_data()"
      ]
    },
    {
      "cell_type": "code",
      "execution_count": null,
      "metadata": {
        "id": "TuZKloVDTJ1y"
      },
      "outputs": [],
      "source": [
        "class_names = ['airplane', 'automobile', 'bird', 'cat', 'deer', 'dog', 'frog', 'horse', 'ship', 'truck']"
      ]
    },
    {
      "cell_type": "code",
      "execution_count": null,
      "metadata": {
        "id": "DsQX-4PEiKaO"
      },
      "outputs": [],
      "source": [
        "required_classes = [1, 3, 5, 9]"
      ]
    },
    {
      "cell_type": "code",
      "execution_count": null,
      "metadata": {
        "id": "MOf_UfS5PNK8"
      },
      "outputs": [],
      "source": [
        "train_index = [i for i, label in enumerate(y_train) if label in required_classes]\n",
        "test_index = [i for i, label in enumerate(y_test) if label in required_classes]\n",
        "x_train = x_train[train_index]\n",
        "y_train = y_train[train_index]\n",
        "x_test = x_test[test_index]\n",
        "y_test = y_test[test_index]"
      ]
    },
    {
      "cell_type": "code",
      "execution_count": null,
      "metadata": {
        "id": "K42-K0VYD-Xa"
      },
      "outputs": [],
      "source": [
        "y_train[(y_train == 1)] = 0   # automobile\n",
        "y_train[(y_train == 3)] = 1   # cat\n",
        "y_train[(y_train == 5)] = 2   # dog\n",
        "y_train[(y_train == 9)] = 3   # truck\n",
        "\n",
        "y_test[(y_test == 1)] = 0   # automobile\n",
        "y_test[(y_test == 3)] = 1   # cat\n",
        "y_test[(y_test == 5)] = 2   # dog\n",
        "y_test[(y_test == 9)] = 3   # truck"
      ]
    },
    {
      "cell_type": "code",
      "source": [
        "# one hot encode target values\n",
        "from keras.utils import to_categorical\n",
        "y_train = to_categorical(y_train)\n",
        "y_test = to_categorical(y_test)"
      ],
      "metadata": {
        "id": "1QRfaUphCi0p"
      },
      "execution_count": null,
      "outputs": []
    },
    {
      "cell_type": "code",
      "execution_count": null,
      "metadata": {
        "colab": {
          "base_uri": "https://localhost:8080/"
        },
        "id": "SxpgQPUJG7zu",
        "outputId": "fa26a02c-e480-487b-8e76-3caf8ce3e91a"
      },
      "outputs": [
        {
          "output_type": "stream",
          "name": "stdout",
          "text": [
            "(20000, 32, 32, 3)\n",
            "(4000, 32, 32, 3)\n"
          ]
        }
      ],
      "source": [
        "print(x_train.shape)\n",
        "print(x_test.shape)\n"
      ]
    },
    {
      "cell_type": "code",
      "execution_count": null,
      "metadata": {
        "id": "Ujo9E4v3HTz9"
      },
      "outputs": [],
      "source": [
        "x_train_filtered = x_train / 255.0\n",
        "x_test_filtered = x_test / 255.0"
      ]
    },
    {
      "cell_type": "code",
      "execution_count": null,
      "metadata": {
        "id": "MQIXn_ffHpo5",
        "colab": {
          "base_uri": "https://localhost:8080/"
        },
        "outputId": "421124b1-8495-4990-fd02-aa46c9d95a51"
      },
      "outputs": [
        {
          "output_type": "stream",
          "name": "stdout",
          "text": [
            "Model: \"sequential\"\n",
            "_________________________________________________________________\n",
            " Layer (type)                Output Shape              Param #   \n",
            "=================================================================\n",
            " conv2d (Conv2D)             (None, 30, 30, 16)        448       \n",
            "                                                                 \n",
            " max_pooling2d (MaxPooling2D  (None, 15, 15, 16)       0         \n",
            " )                                                               \n",
            "                                                                 \n",
            " dropout (Dropout)           (None, 15, 15, 16)        0         \n",
            "                                                                 \n",
            " conv2d_1 (Conv2D)           (None, 13, 13, 32)        4640      \n",
            "                                                                 \n",
            " max_pooling2d_1 (MaxPooling  (None, 6, 6, 32)         0         \n",
            " 2D)                                                             \n",
            "                                                                 \n",
            " dropout_1 (Dropout)         (None, 6, 6, 32)          0         \n",
            "                                                                 \n",
            " conv2d_2 (Conv2D)           (None, 4, 4, 64)          18496     \n",
            "                                                                 \n",
            " max_pooling2d_2 (MaxPooling  (None, 2, 2, 64)         0         \n",
            " 2D)                                                             \n",
            "                                                                 \n",
            " dropout_2 (Dropout)         (None, 2, 2, 64)          0         \n",
            "                                                                 \n",
            " flatten (Flatten)           (None, 256)               0         \n",
            "                                                                 \n",
            " dense (Dense)               (None, 64)                16448     \n",
            "                                                                 \n",
            " dense_1 (Dense)             (None, 4)                 260       \n",
            "                                                                 \n",
            "=================================================================\n",
            "Total params: 40,292\n",
            "Trainable params: 40,292\n",
            "Non-trainable params: 0\n",
            "_________________________________________________________________\n"
          ]
        }
      ],
      "source": [
        "model= Sequential()\n",
        "model.add(Conv2D(16,(3,3), activation=\"relu\", input_shape=(32,32,3)))\n",
        "model.add(MaxPooling2D((2,2)))\n",
        "model.add(Dropout(0.25))\n",
        "\n",
        "model.add(Conv2D(32, (3,3), activation = \"relu\"))\n",
        "model.add(MaxPooling2D((2,2)))\n",
        "model.add(Dropout(0.25))\n",
        "\n",
        "model.add(Conv2D(64, (3,3), activation = \"relu\"))\n",
        "model.add(MaxPooling2D((2,2)))\n",
        "model.add(Dropout(0.25))\n",
        "\n",
        "model.add(Flatten())\n",
        "model.add(Dense(64, activation=\"relu\"))\n",
        "\n",
        "model.add(Dense(4, activation=\"softmax\"))\n",
        "\n",
        "model.summary()"
      ]
    },
    {
      "cell_type": "code",
      "execution_count": null,
      "metadata": {
        "id": "qJSajaJtHsCi"
      },
      "outputs": [],
      "source": [
        "model.compile(optimizer=\"adam\", loss=tf.keras.losses.CategoricalCrossentropy(), metrics=['accuracy'])\n"
      ]
    },
    {
      "cell_type": "code",
      "execution_count": null,
      "metadata": {
        "id": "BTktW7RNM0m6",
        "colab": {
          "base_uri": "https://localhost:8080/"
        },
        "outputId": "edf6a512-436d-4da5-c32a-5d91e37ef829"
      },
      "outputs": [
        {
          "output_type": "stream",
          "name": "stdout",
          "text": [
            "(20000, 32, 32, 3)\n",
            "(20000, 4)\n",
            "(4000, 32, 32, 3)\n",
            "(4000, 4)\n"
          ]
        }
      ],
      "source": [
        "print(x_train_filtered.shape)\n",
        "print(y_train.shape)\n",
        "print(x_test_filtered.shape)\n",
        "print(y_test.shape)"
      ]
    },
    {
      "cell_type": "code",
      "execution_count": null,
      "metadata": {
        "id": "_JbU3MbCHviQ",
        "colab": {
          "base_uri": "https://localhost:8080/"
        },
        "outputId": "54dbf1f0-fb24-47fa-d109-875f374e8f7e"
      },
      "outputs": [
        {
          "output_type": "stream",
          "name": "stdout",
          "text": [
            "Epoch 1/50\n",
            "625/625 [==============================] - 16s 5ms/step - loss: 0.9606 - accuracy: 0.5208 - val_loss: 0.8316 - val_accuracy: 0.6028\n",
            "Epoch 2/50\n",
            "625/625 [==============================] - 3s 5ms/step - loss: 0.8101 - accuracy: 0.6127 - val_loss: 0.7299 - val_accuracy: 0.6718\n",
            "Epoch 3/50\n",
            "625/625 [==============================] - 4s 6ms/step - loss: 0.7431 - accuracy: 0.6561 - val_loss: 0.7138 - val_accuracy: 0.6913\n",
            "Epoch 4/50\n",
            "625/625 [==============================] - 4s 6ms/step - loss: 0.7026 - accuracy: 0.6790 - val_loss: 0.6601 - val_accuracy: 0.6985\n",
            "Epoch 5/50\n",
            "625/625 [==============================] - 3s 5ms/step - loss: 0.6709 - accuracy: 0.6960 - val_loss: 0.6320 - val_accuracy: 0.7278\n",
            "Epoch 6/50\n",
            "625/625 [==============================] - 3s 5ms/step - loss: 0.6457 - accuracy: 0.7149 - val_loss: 0.5993 - val_accuracy: 0.7380\n",
            "Epoch 7/50\n",
            "625/625 [==============================] - 4s 6ms/step - loss: 0.6225 - accuracy: 0.7246 - val_loss: 0.5967 - val_accuracy: 0.7318\n",
            "Epoch 8/50\n",
            "625/625 [==============================] - 3s 5ms/step - loss: 0.6025 - accuracy: 0.7358 - val_loss: 0.5716 - val_accuracy: 0.7590\n",
            "Epoch 9/50\n",
            "625/625 [==============================] - 3s 5ms/step - loss: 0.5870 - accuracy: 0.7398 - val_loss: 0.5629 - val_accuracy: 0.7588\n",
            "Epoch 10/50\n",
            "625/625 [==============================] - 3s 5ms/step - loss: 0.5790 - accuracy: 0.7487 - val_loss: 0.5758 - val_accuracy: 0.7495\n",
            "Epoch 11/50\n",
            "625/625 [==============================] - 4s 6ms/step - loss: 0.5600 - accuracy: 0.7556 - val_loss: 0.5895 - val_accuracy: 0.7427\n",
            "Epoch 12/50\n",
            "625/625 [==============================] - 3s 5ms/step - loss: 0.5536 - accuracy: 0.7578 - val_loss: 0.5432 - val_accuracy: 0.7582\n",
            "Epoch 13/50\n",
            "625/625 [==============================] - 3s 5ms/step - loss: 0.5443 - accuracy: 0.7608 - val_loss: 0.5221 - val_accuracy: 0.7822\n",
            "Epoch 14/50\n",
            "625/625 [==============================] - 3s 5ms/step - loss: 0.5394 - accuracy: 0.7679 - val_loss: 0.5120 - val_accuracy: 0.7840\n",
            "Epoch 15/50\n",
            "625/625 [==============================] - 4s 6ms/step - loss: 0.5254 - accuracy: 0.7713 - val_loss: 0.5073 - val_accuracy: 0.7840\n",
            "Epoch 16/50\n",
            "625/625 [==============================] - 4s 6ms/step - loss: 0.5190 - accuracy: 0.7748 - val_loss: 0.5170 - val_accuracy: 0.7747\n",
            "Epoch 17/50\n",
            "625/625 [==============================] - 3s 5ms/step - loss: 0.5128 - accuracy: 0.7765 - val_loss: 0.5028 - val_accuracy: 0.7862\n",
            "Epoch 18/50\n",
            "625/625 [==============================] - 3s 5ms/step - loss: 0.5044 - accuracy: 0.7814 - val_loss: 0.5158 - val_accuracy: 0.7768\n",
            "Epoch 19/50\n",
            "625/625 [==============================] - 3s 5ms/step - loss: 0.5073 - accuracy: 0.7793 - val_loss: 0.4889 - val_accuracy: 0.7952\n",
            "Epoch 20/50\n",
            "625/625 [==============================] - 3s 5ms/step - loss: 0.4890 - accuracy: 0.7867 - val_loss: 0.4865 - val_accuracy: 0.7935\n",
            "Epoch 21/50\n",
            "625/625 [==============================] - 3s 5ms/step - loss: 0.4960 - accuracy: 0.7873 - val_loss: 0.5039 - val_accuracy: 0.7875\n",
            "Epoch 22/50\n",
            "625/625 [==============================] - 4s 6ms/step - loss: 0.4843 - accuracy: 0.7899 - val_loss: 0.5014 - val_accuracy: 0.7830\n",
            "Epoch 23/50\n",
            "625/625 [==============================] - 3s 5ms/step - loss: 0.4841 - accuracy: 0.7882 - val_loss: 0.5428 - val_accuracy: 0.7602\n",
            "Epoch 24/50\n",
            "625/625 [==============================] - 3s 5ms/step - loss: 0.4771 - accuracy: 0.7916 - val_loss: 0.4744 - val_accuracy: 0.7975\n",
            "Epoch 25/50\n",
            "625/625 [==============================] - 3s 5ms/step - loss: 0.4720 - accuracy: 0.7945 - val_loss: 0.4778 - val_accuracy: 0.8023\n",
            "Epoch 26/50\n",
            "625/625 [==============================] - 4s 6ms/step - loss: 0.4723 - accuracy: 0.7969 - val_loss: 0.4865 - val_accuracy: 0.7887\n",
            "Epoch 27/50\n",
            "625/625 [==============================] - 3s 5ms/step - loss: 0.4677 - accuracy: 0.7965 - val_loss: 0.4649 - val_accuracy: 0.8030\n",
            "Epoch 28/50\n",
            "625/625 [==============================] - 3s 5ms/step - loss: 0.4726 - accuracy: 0.7937 - val_loss: 0.4699 - val_accuracy: 0.8020\n",
            "Epoch 29/50\n",
            "625/625 [==============================] - 3s 5ms/step - loss: 0.4615 - accuracy: 0.8013 - val_loss: 0.4921 - val_accuracy: 0.7903\n",
            "Epoch 30/50\n",
            "625/625 [==============================] - 4s 6ms/step - loss: 0.4580 - accuracy: 0.8025 - val_loss: 0.5191 - val_accuracy: 0.7755\n",
            "Epoch 31/50\n",
            "625/625 [==============================] - 3s 5ms/step - loss: 0.4585 - accuracy: 0.8000 - val_loss: 0.4727 - val_accuracy: 0.7962\n",
            "Epoch 32/50\n",
            "625/625 [==============================] - 3s 5ms/step - loss: 0.4458 - accuracy: 0.8088 - val_loss: 0.4673 - val_accuracy: 0.8058\n",
            "Epoch 33/50\n",
            "625/625 [==============================] - 3s 5ms/step - loss: 0.4515 - accuracy: 0.8069 - val_loss: 0.4553 - val_accuracy: 0.8087\n",
            "Epoch 34/50\n",
            "625/625 [==============================] - 4s 6ms/step - loss: 0.4470 - accuracy: 0.8055 - val_loss: 0.4719 - val_accuracy: 0.7930\n",
            "Epoch 35/50\n",
            "625/625 [==============================] - 3s 5ms/step - loss: 0.4418 - accuracy: 0.8078 - val_loss: 0.4690 - val_accuracy: 0.7997\n",
            "Epoch 36/50\n",
            "625/625 [==============================] - 3s 5ms/step - loss: 0.4426 - accuracy: 0.8118 - val_loss: 0.4563 - val_accuracy: 0.8083\n",
            "Epoch 37/50\n",
            "625/625 [==============================] - 3s 5ms/step - loss: 0.4475 - accuracy: 0.8081 - val_loss: 0.4667 - val_accuracy: 0.7960\n",
            "Epoch 38/50\n",
            "625/625 [==============================] - 5s 7ms/step - loss: 0.4350 - accuracy: 0.8135 - val_loss: 0.4714 - val_accuracy: 0.8055\n",
            "Epoch 39/50\n",
            "625/625 [==============================] - 3s 5ms/step - loss: 0.4357 - accuracy: 0.8138 - val_loss: 0.4776 - val_accuracy: 0.7972\n",
            "Epoch 40/50\n",
            "625/625 [==============================] - 3s 5ms/step - loss: 0.4373 - accuracy: 0.8122 - val_loss: 0.4724 - val_accuracy: 0.8048\n",
            "Epoch 41/50\n",
            "625/625 [==============================] - 3s 5ms/step - loss: 0.4329 - accuracy: 0.8123 - val_loss: 0.4718 - val_accuracy: 0.8040\n",
            "Epoch 42/50\n",
            "625/625 [==============================] - 4s 6ms/step - loss: 0.4377 - accuracy: 0.8131 - val_loss: 0.4685 - val_accuracy: 0.8087\n",
            "Epoch 43/50\n",
            "625/625 [==============================] - 3s 5ms/step - loss: 0.4289 - accuracy: 0.8172 - val_loss: 0.4511 - val_accuracy: 0.8073\n",
            "Epoch 44/50\n",
            "625/625 [==============================] - 3s 5ms/step - loss: 0.4219 - accuracy: 0.8185 - val_loss: 0.4500 - val_accuracy: 0.8115\n",
            "Epoch 45/50\n",
            "625/625 [==============================] - 3s 5ms/step - loss: 0.4173 - accuracy: 0.8163 - val_loss: 0.4570 - val_accuracy: 0.8100\n",
            "Epoch 46/50\n",
            "625/625 [==============================] - 4s 6ms/step - loss: 0.4196 - accuracy: 0.8199 - val_loss: 0.4593 - val_accuracy: 0.8045\n",
            "Epoch 47/50\n",
            "625/625 [==============================] - 3s 5ms/step - loss: 0.4216 - accuracy: 0.8212 - val_loss: 0.4535 - val_accuracy: 0.8085\n",
            "Epoch 48/50\n",
            "625/625 [==============================] - 3s 5ms/step - loss: 0.4195 - accuracy: 0.8213 - val_loss: 0.4427 - val_accuracy: 0.8108\n",
            "Epoch 49/50\n",
            "625/625 [==============================] - 3s 5ms/step - loss: 0.4178 - accuracy: 0.8213 - val_loss: 0.4524 - val_accuracy: 0.8095\n",
            "Epoch 50/50\n",
            "625/625 [==============================] - 4s 6ms/step - loss: 0.4080 - accuracy: 0.8263 - val_loss: 0.4700 - val_accuracy: 0.8100\n",
            "Run time [s]:  205.49980902671814\n"
          ]
        }
      ],
      "source": [
        "start = time.time()\n",
        "\n",
        "history = model.fit(x_train_filtered , y_train, epochs=50 , batch_size = 32, validation_data=(x_test_filtered, y_test))\n",
        "model.save('cifar.h5')\n",
        "\n",
        "end = time.time()\n",
        "print(\"Run time [s]: \",end-start)"
      ]
    },
    {
      "cell_type": "code",
      "execution_count": null,
      "metadata": {
        "id": "F6W1DuWCHy3S",
        "colab": {
          "base_uri": "https://localhost:8080/",
          "height": 393
        },
        "outputId": "28361dad-270c-4cd2-aa00-af3ef4654521"
      },
      "outputs": [
        {
          "output_type": "display_data",
          "data": {
            "text/plain": [
              "<Figure size 400x400 with 1 Axes>"
            ],
            "image/png": "[encoded data removed]"
          },
          "metadata": {}
        }
      ],
      "source": [
        "plt.figure(figsize=(4,4))\n",
        "\n",
        "plt.plot(history.history['accuracy'], label='accuracy')\n",
        "plt.plot(history.history['val_accuracy'], label='val_accuracy')\n",
        "plt.xlabel('Epochs')\n",
        "plt.ylabel('Accuracy')\n",
        "plt.ylim([0.5,1])\n",
        "plt.legend(loc = 'lower right');\n",
        "\n"
      ]
    },
    {
      "cell_type": "code",
      "execution_count": null,
      "metadata": {
        "id": "SxSlIMeJH1if",
        "colab": {
          "base_uri": "https://localhost:8080/"
        },
        "outputId": "3dba4701-a7db-4ee0-f1b7-ac57eaf40773"
      },
      "outputs": [
        {
          "output_type": "stream",
          "name": "stdout",
          "text": [
            "125/125 [==============================] - 0s 2ms/step - loss: 87.7654 - accuracy: 0.5940\n"
          ]
        },
        {
          "output_type": "execute_result",
          "data": {
            "text/plain": [
              "[87.76543426513672, 0.593999981880188]"
            ]
          },
          "metadata": {},
          "execution_count": 16
        }
      ],
      "source": [
        "model.evaluate(x_test, y_test)"
      ]
    },
    {
      "cell_type": "markdown",
      "source": [
        "**Batch_size = 64, activation Function= Relu**"
      ],
      "metadata": {
        "id": "lG3w79hkhGfV"
      }
    },
    {
      "cell_type": "code",
      "source": [
        "start = time.time()\n",
        "\n",
        "history_relu_64 = model.fit(x_train_filtered , y_train, epochs=50 , batch_size = 64, validation_data=(x_test_filtered, y_test))\n",
        "model.save('cifar.h5')\n",
        "\n",
        "end = time.time()\n",
        "print(\"Run time [s]: \",end-start)"
      ],
      "metadata": {
        "colab": {
          "base_uri": "https://localhost:8080/"
        },
        "id": "JdvAfgAxhP5z",
        "outputId": "7ae4b207-9c34-41b9-9174-0843204358a4"
      },
      "execution_count": null,
      "outputs": [
        {
          "output_type": "stream",
          "name": "stdout",
          "text": [
            "Epoch 1/50\n",
            "313/313 [==============================] - 13s 7ms/step - loss: 1.0386 - accuracy: 0.4915 - val_loss: 0.9043 - val_accuracy: 0.5715\n",
            "Epoch 2/50\n",
            "313/313 [==============================] - 2s 5ms/step - loss: 0.8417 - accuracy: 0.5994 - val_loss: 0.7834 - val_accuracy: 0.6457\n",
            "Epoch 3/50\n",
            "313/313 [==============================] - 2s 6ms/step - loss: 0.7979 - accuracy: 0.6252 - val_loss: 0.7360 - val_accuracy: 0.6625\n",
            "Epoch 4/50\n",
            "313/313 [==============================] - 2s 7ms/step - loss: 0.7475 - accuracy: 0.6546 - val_loss: 0.7911 - val_accuracy: 0.6518\n",
            "Epoch 5/50\n",
            "313/313 [==============================] - 3s 8ms/step - loss: 0.7097 - accuracy: 0.6752 - val_loss: 0.6545 - val_accuracy: 0.7053\n",
            "Epoch 6/50\n",
            "313/313 [==============================] - 2s 6ms/step - loss: 0.6823 - accuracy: 0.6940 - val_loss: 0.6417 - val_accuracy: 0.7200\n",
            "Epoch 7/50\n",
            "313/313 [==============================] - 2s 6ms/step - loss: 0.6628 - accuracy: 0.7007 - val_loss: 0.6345 - val_accuracy: 0.7240\n",
            "Epoch 8/50\n",
            "313/313 [==============================] - 2s 7ms/step - loss: 0.6514 - accuracy: 0.7052 - val_loss: 0.6037 - val_accuracy: 0.7343\n",
            "Epoch 9/50\n",
            "313/313 [==============================] - 2s 6ms/step - loss: 0.6147 - accuracy: 0.7297 - val_loss: 0.5829 - val_accuracy: 0.7415\n",
            "Epoch 10/50\n",
            "313/313 [==============================] - 2s 7ms/step - loss: 0.6031 - accuracy: 0.7314 - val_loss: 0.6049 - val_accuracy: 0.7312\n",
            "Epoch 11/50\n",
            "313/313 [==============================] - 2s 5ms/step - loss: 0.5965 - accuracy: 0.7351 - val_loss: 0.5562 - val_accuracy: 0.7563\n",
            "Epoch 12/50\n",
            "313/313 [==============================] - 2s 5ms/step - loss: 0.5819 - accuracy: 0.7444 - val_loss: 0.5618 - val_accuracy: 0.7533\n",
            "Epoch 13/50\n",
            "313/313 [==============================] - 2s 6ms/step - loss: 0.5636 - accuracy: 0.7509 - val_loss: 0.5345 - val_accuracy: 0.7692\n",
            "Epoch 14/50\n",
            "313/313 [==============================] - 2s 5ms/step - loss: 0.5571 - accuracy: 0.7571 - val_loss: 0.5361 - val_accuracy: 0.7655\n",
            "Epoch 15/50\n",
            "313/313 [==============================] - 2s 5ms/step - loss: 0.5483 - accuracy: 0.7584 - val_loss: 0.5185 - val_accuracy: 0.7735\n",
            "Epoch 16/50\n",
            "313/313 [==============================] - 2s 6ms/step - loss: 0.5378 - accuracy: 0.7648 - val_loss: 0.5018 - val_accuracy: 0.7908\n",
            "Epoch 17/50\n",
            "313/313 [==============================] - 2s 7ms/step - loss: 0.5272 - accuracy: 0.7691 - val_loss: 0.5597 - val_accuracy: 0.7655\n",
            "Epoch 18/50\n",
            "313/313 [==============================] - 2s 5ms/step - loss: 0.5302 - accuracy: 0.7696 - val_loss: 0.5201 - val_accuracy: 0.7775\n",
            "Epoch 19/50\n",
            "313/313 [==============================] - 2s 6ms/step - loss: 0.5189 - accuracy: 0.7746 - val_loss: 0.5292 - val_accuracy: 0.7812\n",
            "Epoch 20/50\n",
            "313/313 [==============================] - 2s 5ms/step - loss: 0.5043 - accuracy: 0.7811 - val_loss: 0.5016 - val_accuracy: 0.7895\n",
            "Epoch 21/50\n",
            "313/313 [==============================] - 2s 6ms/step - loss: 0.5005 - accuracy: 0.7864 - val_loss: 0.4869 - val_accuracy: 0.7880\n",
            "Epoch 22/50\n",
            "313/313 [==============================] - 2s 6ms/step - loss: 0.4960 - accuracy: 0.7862 - val_loss: 0.4797 - val_accuracy: 0.8008\n",
            "Epoch 23/50\n",
            "313/313 [==============================] - 2s 6ms/step - loss: 0.4871 - accuracy: 0.7869 - val_loss: 0.4679 - val_accuracy: 0.8035\n",
            "Epoch 24/50\n",
            "313/313 [==============================] - 2s 7ms/step - loss: 0.4860 - accuracy: 0.7875 - val_loss: 0.4643 - val_accuracy: 0.8067\n",
            "Epoch 25/50\n",
            "313/313 [==============================] - 2s 5ms/step - loss: 0.4763 - accuracy: 0.7933 - val_loss: 0.4689 - val_accuracy: 0.8067\n",
            "Epoch 26/50\n",
            "313/313 [==============================] - 2s 6ms/step - loss: 0.4709 - accuracy: 0.7972 - val_loss: 0.4739 - val_accuracy: 0.7997\n",
            "Epoch 27/50\n",
            "313/313 [==============================] - 2s 5ms/step - loss: 0.4720 - accuracy: 0.7935 - val_loss: 0.4590 - val_accuracy: 0.8073\n",
            "Epoch 28/50\n",
            "313/313 [==============================] - 2s 6ms/step - loss: 0.4689 - accuracy: 0.7944 - val_loss: 0.4843 - val_accuracy: 0.8020\n",
            "Epoch 29/50\n",
            "313/313 [==============================] - 2s 6ms/step - loss: 0.4601 - accuracy: 0.8025 - val_loss: 0.4725 - val_accuracy: 0.8050\n",
            "Epoch 30/50\n",
            "313/313 [==============================] - 2s 7ms/step - loss: 0.4620 - accuracy: 0.7990 - val_loss: 0.4808 - val_accuracy: 0.8035\n",
            "Epoch 31/50\n",
            "313/313 [==============================] - 2s 6ms/step - loss: 0.4503 - accuracy: 0.8074 - val_loss: 0.4690 - val_accuracy: 0.8085\n",
            "Epoch 32/50\n",
            "313/313 [==============================] - 2s 6ms/step - loss: 0.4551 - accuracy: 0.8028 - val_loss: 0.5106 - val_accuracy: 0.7962\n",
            "Epoch 33/50\n",
            "313/313 [==============================] - 2s 6ms/step - loss: 0.4534 - accuracy: 0.8051 - val_loss: 0.4605 - val_accuracy: 0.8092\n",
            "Epoch 34/50\n",
            "313/313 [==============================] - 2s 6ms/step - loss: 0.4572 - accuracy: 0.8030 - val_loss: 0.4477 - val_accuracy: 0.8120\n",
            "Epoch 35/50\n",
            "313/313 [==============================] - 2s 6ms/step - loss: 0.4413 - accuracy: 0.8076 - val_loss: 0.4492 - val_accuracy: 0.8180\n",
            "Epoch 36/50\n",
            "313/313 [==============================] - 2s 6ms/step - loss: 0.4357 - accuracy: 0.8109 - val_loss: 0.4548 - val_accuracy: 0.8100\n",
            "Epoch 37/50\n",
            "313/313 [==============================] - 2s 8ms/step - loss: 0.4443 - accuracy: 0.8105 - val_loss: 0.4754 - val_accuracy: 0.7950\n",
            "Epoch 38/50\n",
            "313/313 [==============================] - 2s 7ms/step - loss: 0.4404 - accuracy: 0.8113 - val_loss: 0.4451 - val_accuracy: 0.8183\n",
            "Epoch 39/50\n",
            "313/313 [==============================] - 2s 6ms/step - loss: 0.4319 - accuracy: 0.8137 - val_loss: 0.4581 - val_accuracy: 0.8085\n",
            "Epoch 40/50\n",
            "313/313 [==============================] - 2s 6ms/step - loss: 0.4311 - accuracy: 0.8138 - val_loss: 0.4675 - val_accuracy: 0.8055\n",
            "Epoch 41/50\n",
            "313/313 [==============================] - 2s 6ms/step - loss: 0.4285 - accuracy: 0.8148 - val_loss: 0.4487 - val_accuracy: 0.8100\n",
            "Epoch 42/50\n",
            "313/313 [==============================] - 2s 6ms/step - loss: 0.4219 - accuracy: 0.8230 - val_loss: 0.4471 - val_accuracy: 0.8215\n",
            "Epoch 43/50\n",
            "313/313 [==============================] - 2s 8ms/step - loss: 0.4232 - accuracy: 0.8191 - val_loss: 0.4590 - val_accuracy: 0.8117\n",
            "Epoch 44/50\n",
            "313/313 [==============================] - 2s 6ms/step - loss: 0.4309 - accuracy: 0.8139 - val_loss: 0.4690 - val_accuracy: 0.8105\n",
            "Epoch 45/50\n",
            "313/313 [==============================] - 2s 6ms/step - loss: 0.4185 - accuracy: 0.8176 - val_loss: 0.4801 - val_accuracy: 0.8070\n",
            "Epoch 46/50\n",
            "313/313 [==============================] - 2s 6ms/step - loss: 0.4180 - accuracy: 0.8217 - val_loss: 0.4677 - val_accuracy: 0.8170\n",
            "Epoch 47/50\n",
            "313/313 [==============================] - 2s 6ms/step - loss: 0.4199 - accuracy: 0.8206 - val_loss: 0.4487 - val_accuracy: 0.8087\n",
            "Epoch 48/50\n",
            "313/313 [==============================] - 2s 6ms/step - loss: 0.4138 - accuracy: 0.8228 - val_loss: 0.4338 - val_accuracy: 0.8217\n",
            "Epoch 49/50\n",
            "313/313 [==============================] - 2s 7ms/step - loss: 0.4172 - accuracy: 0.8217 - val_loss: 0.4500 - val_accuracy: 0.8133\n",
            "Epoch 50/50\n",
            "313/313 [==============================] - 2s 7ms/step - loss: 0.4159 - accuracy: 0.8201 - val_loss: 0.4415 - val_accuracy: 0.8175\n",
            "Run time [s]:  108.75133538246155\n"
          ]
        }
      ]
    },
    {
      "cell_type": "code",
      "source": [
        "plt.figure(figsize=(4,4))\n",
        "\n",
        "plt.plot(history_relu_64.history['accuracy'], label='accuracy')\n",
        "plt.plot(history_relu_64.history['val_accuracy'], label='val_accuracy')\n",
        "plt.xlabel('Epochs')\n",
        "plt.ylabel('Accuracy')\n",
        "plt.ylim([0.5,1])\n",
        "plt.legend(loc = 'lower right');\n",
        "\n"
      ],
      "metadata": {
        "colab": {
          "base_uri": "https://localhost:8080/",
          "height": 393
        },
        "id": "uAll-l3VhkgD",
        "outputId": "0a61a49c-e04c-4609-ad0d-5d2e11708f36"
      },
      "execution_count": null,
      "outputs": [
        {
          "output_type": "display_data",
          "data": {
            "text/plain": [
              "<Figure size 400x400 with 1 Axes>"
            ],
            "image/png": "[encoded data removed]"
          },
          "metadata": {}
        }
      ]
    },
    {
      "cell_type": "code",
      "source": [
        "model.evaluate(x_test, y_test)"
      ],
      "metadata": {
        "colab": {
          "base_uri": "https://localhost:8080/"
        },
        "id": "-lbqoQ1ahm_K",
        "outputId": "fada6c99-64e5-4fca-92fe-5dce6424720b"
      },
      "execution_count": null,
      "outputs": [
        {
          "output_type": "stream",
          "name": "stdout",
          "text": [
            "125/125 [==============================] - 0s 2ms/step - loss: 57.6180 - accuracy: 0.6710\n"
          ]
        },
        {
          "output_type": "execute_result",
          "data": {
            "text/plain": [
              "[57.61798095703125, 0.6710000038146973]"
            ]
          },
          "metadata": {},
          "execution_count": 17
        }
      ]
    },
    {
      "cell_type": "markdown",
      "source": [
        "**Batch_size = 128, activation Function= Relu**"
      ],
      "metadata": {
        "id": "Sfb0r-6kkJEL"
      }
    },
    {
      "cell_type": "code",
      "source": [
        "start = time.time()\n",
        "\n",
        "history_relu_128 = model.fit(x_train_filtered , y_train, epochs=50 , batch_size = 128, validation_data=(x_test_filtered, y_test))\n",
        "model.save('cifar.h5')\n",
        "\n",
        "end = time.time()\n",
        "print(\"Run time [s]: \",end-start)"
      ],
      "metadata": {
        "colab": {
          "base_uri": "https://localhost:8080/"
        },
        "id": "JmhSDecdkONb",
        "outputId": "2cb9b6a4-39a2-4474-d113-583eb9f6daad"
      },
      "execution_count": null,
      "outputs": [
        {
          "output_type": "stream",
          "name": "stdout",
          "text": [
            "Epoch 1/50\n",
            "157/157 [==============================] - 1s 7ms/step - loss: 0.3826 - accuracy: 0.8383 - val_loss: 0.4297 - val_accuracy: 0.8200\n",
            "Epoch 2/50\n",
            "157/157 [==============================] - 1s 6ms/step - loss: 0.3770 - accuracy: 0.8358 - val_loss: 0.4277 - val_accuracy: 0.8238\n",
            "Epoch 3/50\n",
            "157/157 [==============================] - 1s 6ms/step - loss: 0.3784 - accuracy: 0.8378 - val_loss: 0.4334 - val_accuracy: 0.8255\n",
            "Epoch 4/50\n",
            "157/157 [==============================] - 1s 7ms/step - loss: 0.3743 - accuracy: 0.8404 - val_loss: 0.4412 - val_accuracy: 0.8165\n",
            "Epoch 5/50\n",
            "157/157 [==============================] - 1s 6ms/step - loss: 0.3772 - accuracy: 0.8388 - val_loss: 0.4205 - val_accuracy: 0.8290\n",
            "Epoch 6/50\n",
            "157/157 [==============================] - 1s 7ms/step - loss: 0.3823 - accuracy: 0.8380 - val_loss: 0.4285 - val_accuracy: 0.8238\n",
            "Epoch 7/50\n",
            "157/157 [==============================] - 1s 6ms/step - loss: 0.3738 - accuracy: 0.8408 - val_loss: 0.4467 - val_accuracy: 0.8173\n",
            "Epoch 8/50\n",
            "157/157 [==============================] - 1s 7ms/step - loss: 0.3772 - accuracy: 0.8406 - val_loss: 0.4286 - val_accuracy: 0.8240\n",
            "Epoch 9/50\n",
            "157/157 [==============================] - 2s 11ms/step - loss: 0.3677 - accuracy: 0.8417 - val_loss: 0.4457 - val_accuracy: 0.8202\n",
            "Epoch 10/50\n",
            "157/157 [==============================] - 1s 9ms/step - loss: 0.3765 - accuracy: 0.8388 - val_loss: 0.4198 - val_accuracy: 0.8300\n",
            "Epoch 11/50\n",
            "157/157 [==============================] - 1s 8ms/step - loss: 0.3690 - accuracy: 0.8414 - val_loss: 0.4502 - val_accuracy: 0.8133\n",
            "Epoch 12/50\n",
            "157/157 [==============================] - 1s 6ms/step - loss: 0.3685 - accuracy: 0.8422 - val_loss: 0.4330 - val_accuracy: 0.8225\n",
            "Epoch 13/50\n",
            "157/157 [==============================] - 1s 6ms/step - loss: 0.3713 - accuracy: 0.8394 - val_loss: 0.4253 - val_accuracy: 0.8263\n",
            "Epoch 14/50\n",
            "157/157 [==============================] - 1s 6ms/step - loss: 0.3678 - accuracy: 0.8425 - val_loss: 0.4257 - val_accuracy: 0.8200\n",
            "Epoch 15/50\n",
            "157/157 [==============================] - 1s 6ms/step - loss: 0.3706 - accuracy: 0.8419 - val_loss: 0.4169 - val_accuracy: 0.8310\n",
            "Epoch 16/50\n",
            "157/157 [==============================] - 1s 6ms/step - loss: 0.3719 - accuracy: 0.8424 - val_loss: 0.4278 - val_accuracy: 0.8290\n",
            "Epoch 17/50\n",
            "157/157 [==============================] - 1s 6ms/step - loss: 0.3667 - accuracy: 0.8417 - val_loss: 0.4400 - val_accuracy: 0.8227\n",
            "Epoch 18/50\n",
            "157/157 [==============================] - 2s 10ms/step - loss: 0.3686 - accuracy: 0.8403 - val_loss: 0.4324 - val_accuracy: 0.8273\n",
            "Epoch 19/50\n",
            "157/157 [==============================] - 2s 12ms/step - loss: 0.3693 - accuracy: 0.8443 - val_loss: 0.4275 - val_accuracy: 0.8242\n",
            "Epoch 20/50\n",
            "157/157 [==============================] - 2s 14ms/step - loss: 0.3691 - accuracy: 0.8389 - val_loss: 0.4162 - val_accuracy: 0.8290\n",
            "Epoch 21/50\n",
            "157/157 [==============================] - 2s 11ms/step - loss: 0.3602 - accuracy: 0.8441 - val_loss: 0.4351 - val_accuracy: 0.8185\n",
            "Epoch 22/50\n",
            "157/157 [==============================] - 2s 12ms/step - loss: 0.3611 - accuracy: 0.8460 - val_loss: 0.4156 - val_accuracy: 0.8310\n",
            "Epoch 23/50\n",
            "157/157 [==============================] - 1s 9ms/step - loss: 0.3712 - accuracy: 0.8417 - val_loss: 0.4160 - val_accuracy: 0.8292\n",
            "Epoch 24/50\n",
            "157/157 [==============================] - 1s 6ms/step - loss: 0.3605 - accuracy: 0.8445 - val_loss: 0.4318 - val_accuracy: 0.8227\n",
            "Epoch 25/50\n",
            "157/157 [==============================] - 1s 7ms/step - loss: 0.3671 - accuracy: 0.8442 - val_loss: 0.4203 - val_accuracy: 0.8292\n",
            "Epoch 26/50\n",
            "157/157 [==============================] - 1s 7ms/step - loss: 0.3540 - accuracy: 0.8490 - val_loss: 0.4314 - val_accuracy: 0.8215\n",
            "Epoch 27/50\n",
            "157/157 [==============================] - 1s 7ms/step - loss: 0.3655 - accuracy: 0.8417 - val_loss: 0.4283 - val_accuracy: 0.8183\n",
            "Epoch 28/50\n",
            "157/157 [==============================] - 1s 7ms/step - loss: 0.3639 - accuracy: 0.8473 - val_loss: 0.4629 - val_accuracy: 0.8148\n",
            "Epoch 29/50\n",
            "157/157 [==============================] - 1s 8ms/step - loss: 0.3611 - accuracy: 0.8479 - val_loss: 0.4164 - val_accuracy: 0.8273\n",
            "Epoch 30/50\n",
            "157/157 [==============================] - 1s 8ms/step - loss: 0.3506 - accuracy: 0.8523 - val_loss: 0.4275 - val_accuracy: 0.8245\n",
            "Epoch 31/50\n",
            "157/157 [==============================] - 1s 7ms/step - loss: 0.3562 - accuracy: 0.8479 - val_loss: 0.4472 - val_accuracy: 0.8238\n",
            "Epoch 32/50\n",
            "157/157 [==============================] - 1s 6ms/step - loss: 0.3558 - accuracy: 0.8490 - val_loss: 0.4317 - val_accuracy: 0.8245\n",
            "Epoch 33/50\n",
            "157/157 [==============================] - 1s 8ms/step - loss: 0.3554 - accuracy: 0.8498 - val_loss: 0.4309 - val_accuracy: 0.8250\n",
            "Epoch 34/50\n",
            "157/157 [==============================] - 2s 11ms/step - loss: 0.3523 - accuracy: 0.8500 - val_loss: 0.4556 - val_accuracy: 0.8185\n",
            "Epoch 35/50\n",
            "157/157 [==============================] - 1s 7ms/step - loss: 0.3576 - accuracy: 0.8450 - val_loss: 0.4391 - val_accuracy: 0.8200\n",
            "Epoch 36/50\n",
            "157/157 [==============================] - 1s 7ms/step - loss: 0.3584 - accuracy: 0.8460 - val_loss: 0.4451 - val_accuracy: 0.8185\n",
            "Epoch 37/50\n",
            "157/157 [==============================] - 1s 7ms/step - loss: 0.3445 - accuracy: 0.8540 - val_loss: 0.4302 - val_accuracy: 0.8288\n",
            "Epoch 38/50\n",
            "157/157 [==============================] - 1s 6ms/step - loss: 0.3475 - accuracy: 0.8511 - val_loss: 0.4317 - val_accuracy: 0.8255\n",
            "Epoch 39/50\n",
            "157/157 [==============================] - 1s 6ms/step - loss: 0.3522 - accuracy: 0.8528 - val_loss: 0.4422 - val_accuracy: 0.8192\n",
            "Epoch 40/50\n",
            "157/157 [==============================] - 1s 8ms/step - loss: 0.3512 - accuracy: 0.8503 - val_loss: 0.4263 - val_accuracy: 0.8210\n",
            "Epoch 41/50\n",
            "157/157 [==============================] - 1s 8ms/step - loss: 0.3544 - accuracy: 0.8489 - val_loss: 0.4273 - val_accuracy: 0.8255\n",
            "Epoch 42/50\n",
            "157/157 [==============================] - 1s 7ms/step - loss: 0.3496 - accuracy: 0.8510 - val_loss: 0.4251 - val_accuracy: 0.8257\n",
            "Epoch 43/50\n",
            "157/157 [==============================] - 1s 6ms/step - loss: 0.3456 - accuracy: 0.8526 - val_loss: 0.4356 - val_accuracy: 0.8160\n",
            "Epoch 44/50\n",
            "157/157 [==============================] - 1s 6ms/step - loss: 0.3455 - accuracy: 0.8541 - val_loss: 0.4190 - val_accuracy: 0.8278\n",
            "Epoch 45/50\n",
            "157/157 [==============================] - 1s 6ms/step - loss: 0.3509 - accuracy: 0.8508 - val_loss: 0.4117 - val_accuracy: 0.8345\n",
            "Epoch 46/50\n",
            "157/157 [==============================] - 1s 6ms/step - loss: 0.3433 - accuracy: 0.8533 - val_loss: 0.4333 - val_accuracy: 0.8238\n",
            "Epoch 47/50\n",
            "157/157 [==============================] - 1s 6ms/step - loss: 0.3436 - accuracy: 0.8542 - val_loss: 0.4198 - val_accuracy: 0.8290\n",
            "Epoch 48/50\n",
            "157/157 [==============================] - 1s 6ms/step - loss: 0.3422 - accuracy: 0.8538 - val_loss: 0.4193 - val_accuracy: 0.8253\n",
            "Epoch 49/50\n",
            "157/157 [==============================] - 1s 6ms/step - loss: 0.3483 - accuracy: 0.8537 - val_loss: 0.4253 - val_accuracy: 0.8213\n",
            "Epoch 50/50\n",
            "157/157 [==============================] - 1s 6ms/step - loss: 0.3397 - accuracy: 0.8530 - val_loss: 0.4141 - val_accuracy: 0.8263\n",
            "Run time [s]:  82.65892052650452\n"
          ]
        }
      ]
    },
    {
      "cell_type": "code",
      "source": [
        "plt.figure(figsize=(4,4))\n",
        "\n",
        "plt.plot(history_relu_128.history['accuracy'], label='accuracy')\n",
        "plt.plot(history_relu_128.history['val_accuracy'], label='val_accuracy')\n",
        "plt.xlabel('Epochs')\n",
        "plt.ylabel('Accuracy')\n",
        "plt.ylim([0.5,1])\n",
        "plt.legend(loc = 'lower right');\n",
        "\n"
      ],
      "metadata": {
        "colab": {
          "base_uri": "https://localhost:8080/",
          "height": 393
        },
        "id": "Z89pW-UfkXOz",
        "outputId": "1cd8adef-84c2-41e3-dc93-42237619d6dc"
      },
      "execution_count": null,
      "outputs": [
        {
          "output_type": "display_data",
          "data": {
            "text/plain": [
              "<Figure size 400x400 with 1 Axes>"
            ],
            "image/png": "[encoded data removed]"
          },
          "metadata": {}
        }
      ]
    },
    {
      "cell_type": "code",
      "source": [
        "model.evaluate(x_test, y_test)"
      ],
      "metadata": {
        "colab": {
          "base_uri": "https://localhost:8080/"
        },
        "id": "SK5jpUh0ke4M",
        "outputId": "130485f9-41f0-4dbe-e5ce-dafc90067313"
      },
      "execution_count": null,
      "outputs": [
        {
          "output_type": "stream",
          "name": "stdout",
          "text": [
            "125/125 [==============================] - 0s 3ms/step - loss: 77.9132 - accuracy: 0.6560\n"
          ]
        },
        {
          "output_type": "execute_result",
          "data": {
            "text/plain": [
              "[77.91319274902344, 0.656000018119812]"
            ]
          },
          "metadata": {},
          "execution_count": 21
        }
      ]
    }
  ],
  "metadata": {
    "accelerator": "GPU",
    "colab": {
      "provenance": []
    },
    "gpuClass": "standard",
    "kernelspec": {
      "display_name": "Python 3",
      "name": "python3"
    },
    "language_info": {
      "name": "python"
    }
  },
  "nbformat": 4,
  "nbformat_minor": 0
}