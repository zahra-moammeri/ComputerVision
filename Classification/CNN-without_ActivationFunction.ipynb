{
  "nbformat": 4,
  "nbformat_minor": 0,
  "metadata": {
    "colab": {
      "provenance": []
    },
    "kernelspec": {
      "name": "python3",
      "display_name": "Python 3"
    },
    "language_info": {
      "name": "python"
    }
  },
  "cells": [
    {
      "cell_type": "code",
      "execution_count": null,
      "metadata": {
        "id": "QpED727Uq3fi"
      },
      "outputs": [],
      "source": [
        "import numpy as np\n",
        "from keras.models import Sequential\n",
        "import tensorflow as tf\n",
        "from keras.layers import Dense, Flatten, Conv2D, MaxPooling2D, Dropout\n",
        "import matplotlib.pyplot as plt\n",
        "import time\n"
      ]
    },
    {
      "cell_type": "code",
      "source": [
        "from keras.datasets import cifar10\n",
        "\n",
        "(x_train, y_train),(x_test, y_test) = cifar10.load_data()"
      ],
      "metadata": {
        "colab": {
          "base_uri": "https://localhost:8080/"
        },
        "id": "TvxofEGoq6Tu",
        "outputId": "5f1bf2b0-be9b-4cea-b231-d051a44d582b"
      },
      "execution_count": null,
      "outputs": [
        {
          "output_type": "stream",
          "name": "stdout",
          "text": [
            "Downloading data from https://www.cs.toronto.edu/~kriz/cifar-10-python.tar.gz\n",
            "170498071/170498071 [==============================] - 2s 0us/step\n"
          ]
        }
      ]
    },
    {
      "cell_type": "code",
      "source": [
        "class_names = ['airplane', 'automobile', 'bird', 'cat', 'deer', 'dog', 'frog', 'horse', 'ship', 'truck']"
      ],
      "metadata": {
        "id": "DS0_cPPfq9u6"
      },
      "execution_count": null,
      "outputs": []
    },
    {
      "cell_type": "code",
      "source": [
        "required_classes = [1, 3, 5, 9]"
      ],
      "metadata": {
        "id": "Rd5RKrrFrAvA"
      },
      "execution_count": null,
      "outputs": []
    },
    {
      "cell_type": "code",
      "source": [
        "train_index = [i for i, label in enumerate(y_train) if label in required_classes]\n",
        "test_index = [i for i, label in enumerate(y_test) if label in required_classes]\n",
        "x_train = x_train[train_index]\n",
        "y_train = y_train[train_index]\n",
        "x_test = x_test[test_index]\n",
        "y_test = y_test[test_index]"
      ],
      "metadata": {
        "id": "WBPhiNbsrGAF"
      },
      "execution_count": null,
      "outputs": []
    },
    {
      "cell_type": "code",
      "source": [
        "y_train[(y_train == 1)] = 0   # automobile\n",
        "y_train[(y_train == 3)] = 1   # cat\n",
        "y_train[(y_train == 5)] = 2   # dog\n",
        "y_train[(y_train == 9)] = 3   # truck\n",
        "\n",
        "y_test[(y_test == 1)] = 0   # automobile\n",
        "y_test[(y_test == 3)] = 1   # cat\n",
        "y_test[(y_test == 5)] = 2   # dog\n",
        "y_test[(y_test == 9)] = 3   # truck"
      ],
      "metadata": {
        "id": "nRKcv9GbrKEu"
      },
      "execution_count": null,
      "outputs": []
    },
    {
      "cell_type": "code",
      "source": [
        "# one hot encode target values\n",
        "from keras.utils import to_categorical\n",
        "y_train = to_categorical(y_train)\n",
        "y_test = to_categorical(y_test)"
      ],
      "metadata": {
        "id": "ZfKIsdnUrPeG"
      },
      "execution_count": null,
      "outputs": []
    },
    {
      "cell_type": "code",
      "source": [
        "x_train_filtered = x_train / 255.0\n",
        "x_test_filtered = x_test / 255.0"
      ],
      "metadata": {
        "id": "duahQrljrTYD"
      },
      "execution_count": null,
      "outputs": []
    },
    {
      "cell_type": "code",
      "source": [
        "model= Sequential()\n",
        "model.add(Conv2D(16,(3,3), input_shape=(32,32,3)))\n",
        "model.add(MaxPooling2D((2,2)))\n",
        "model.add(Dropout(0.25))\n",
        "\n",
        "model.add(Conv2D(32, (3,3)))\n",
        "model.add(MaxPooling2D((2,2)))\n",
        "model.add(Dropout(0.25))\n",
        "\n",
        "model.add(Conv2D(64, (3,3)))\n",
        "model.add(MaxPooling2D((2,2)))\n",
        "model.add(Dropout(0.25))\n",
        "\n",
        "model.add(Flatten())\n",
        "model.add(Dense(64))\n",
        "\n",
        "model.add(Dense(4))\n",
        "\n",
        "model.summary()"
      ],
      "metadata": {
        "colab": {
          "base_uri": "https://localhost:8080/"
        },
        "id": "50ua-1ufrapa",
        "outputId": "4b3d06a9-47fb-419a-82be-64b494c927c6"
      },
      "execution_count": null,
      "outputs": [
        {
          "output_type": "stream",
          "name": "stdout",
          "text": [
            "Model: \"sequential_1\"\n",
            "_________________________________________________________________\n",
            " Layer (type)                Output Shape              Param #   \n",
            "=================================================================\n",
            " conv2d_3 (Conv2D)           (None, 30, 30, 16)        448       \n",
            "                                                                 \n",
            " max_pooling2d_3 (MaxPooling  (None, 15, 15, 16)       0         \n",
            " 2D)                                                             \n",
            "                                                                 \n",
            " dropout_3 (Dropout)         (None, 15, 15, 16)        0         \n",
            "                                                                 \n",
            " conv2d_4 (Conv2D)           (None, 13, 13, 32)        4640      \n",
            "                                                                 \n",
            " max_pooling2d_4 (MaxPooling  (None, 6, 6, 32)         0         \n",
            " 2D)                                                             \n",
            "                                                                 \n",
            " dropout_4 (Dropout)         (None, 6, 6, 32)          0         \n",
            "                                                                 \n",
            " conv2d_5 (Conv2D)           (None, 4, 4, 64)          18496     \n",
            "                                                                 \n",
            " max_pooling2d_5 (MaxPooling  (None, 2, 2, 64)         0         \n",
            " 2D)                                                             \n",
            "                                                                 \n",
            " dropout_5 (Dropout)         (None, 2, 2, 64)          0         \n",
            "                                                                 \n",
            " flatten_1 (Flatten)         (None, 256)               0         \n",
            "                                                                 \n",
            " dense_2 (Dense)             (None, 64)                16448     \n",
            "                                                                 \n",
            " dense_3 (Dense)             (None, 4)                 260       \n",
            "                                                                 \n",
            "=================================================================\n",
            "Total params: 40,292\n",
            "Trainable params: 40,292\n",
            "Non-trainable params: 0\n",
            "_________________________________________________________________\n"
          ]
        }
      ]
    },
    {
      "cell_type": "code",
      "source": [
        "model.compile(optimizer=\"adam\", loss=tf.keras.losses.CategoricalCrossentropy(), metrics=['accuracy'])\n"
      ],
      "metadata": {
        "id": "UObRuaRbg9xE"
      },
      "execution_count": null,
      "outputs": []
    },
    {
      "cell_type": "code",
      "source": [
        "print(x_train_filtered.shape)\n",
        "print(y_train.shape)\n",
        "print(x_test_filtered.shape)\n",
        "print(y_test.shape)"
      ],
      "metadata": {
        "colab": {
          "base_uri": "https://localhost:8080/"
        },
        "id": "qGgc5ejare0H",
        "outputId": "18dda1ce-2eb1-4cf1-d7c4-c723898ae30a"
      },
      "execution_count": null,
      "outputs": [
        {
          "output_type": "stream",
          "name": "stdout",
          "text": [
            "(20000, 32, 32, 3)\n",
            "(20000, 4)\n",
            "(4000, 32, 32, 3)\n",
            "(4000, 4)\n"
          ]
        }
      ]
    },
    {
      "cell_type": "code",
      "source": [
        "start = time.time()\n",
        "\n",
        "history = model.fit(x_train_filtered , y_train, epochs=50 , batch_size = 32, validation_data=(x_test_filtered, y_test))\n",
        "model.save('cifar.h5')\n",
        "\n",
        "end = time.time()\n",
        "print(\"Run time [s]: \",end-start)"
      ],
      "metadata": {
        "colab": {
          "base_uri": "https://localhost:8080/"
        },
        "id": "ChdXBaZLriiK",
        "outputId": "7cd4649d-f03f-4542-df46-0de0c5c69533"
      },
      "execution_count": null,
      "outputs": [
        {
          "output_type": "stream",
          "name": "stdout",
          "text": [
            "Epoch 1/50\n",
            "625/625 [==============================] - 24s 37ms/step - loss: 8.1032 - accuracy: 0.2477 - val_loss: 8.0590 - val_accuracy: 0.2500\n",
            "Epoch 2/50\n",
            "625/625 [==============================] - 22s 35ms/step - loss: 8.1292 - accuracy: 0.2500 - val_loss: 8.0590 - val_accuracy: 0.2500\n",
            "Epoch 3/50\n",
            "625/625 [==============================] - 21s 34ms/step - loss: 8.1437 - accuracy: 0.2500 - val_loss: 8.0590 - val_accuracy: 0.2500\n",
            "Epoch 4/50\n",
            "625/625 [==============================] - 24s 38ms/step - loss: 8.1042 - accuracy: 0.2499 - val_loss: 8.0590 - val_accuracy: 0.2500\n",
            "Epoch 5/50\n",
            "625/625 [==============================] - 21s 34ms/step - loss: 8.1711 - accuracy: 0.2500 - val_loss: 8.0590 - val_accuracy: 0.2500\n",
            "Epoch 6/50\n",
            "625/625 [==============================] - 21s 34ms/step - loss: 8.0873 - accuracy: 0.2500 - val_loss: 8.0590 - val_accuracy: 0.2500\n",
            "Epoch 7/50\n",
            "625/625 [==============================] - 22s 36ms/step - loss: 8.0719 - accuracy: 0.2500 - val_loss: 8.0590 - val_accuracy: 0.2500\n",
            "Epoch 8/50\n",
            "625/625 [==============================] - 22s 35ms/step - loss: 8.1412 - accuracy: 0.2500 - val_loss: 8.0590 - val_accuracy: 0.2500\n",
            "Epoch 9/50\n",
            "625/625 [==============================] - 21s 33ms/step - loss: 8.1453 - accuracy: 0.2500 - val_loss: 8.0590 - val_accuracy: 0.2500\n",
            "Epoch 10/50\n",
            "625/625 [==============================] - 22s 36ms/step - loss: 8.0727 - accuracy: 0.2500 - val_loss: 8.0590 - val_accuracy: 0.2500\n",
            "Epoch 11/50\n",
            "625/625 [==============================] - 21s 34ms/step - loss: 8.1348 - accuracy: 0.2500 - val_loss: 8.0590 - val_accuracy: 0.2500\n",
            "Epoch 12/50\n",
            "625/625 [==============================] - 23s 37ms/step - loss: 8.0719 - accuracy: 0.2500 - val_loss: 8.0590 - val_accuracy: 0.2500\n",
            "Epoch 13/50\n",
            "625/625 [==============================] - 22s 36ms/step - loss: 8.1042 - accuracy: 0.2500 - val_loss: 8.0590 - val_accuracy: 0.2500\n",
            "Epoch 14/50\n",
            "625/625 [==============================] - 22s 35ms/step - loss: 8.1356 - accuracy: 0.2500 - val_loss: 8.0590 - val_accuracy: 0.2500\n",
            "Epoch 15/50\n",
            "625/625 [==============================] - 21s 33ms/step - loss: 8.1356 - accuracy: 0.2500 - val_loss: 8.0590 - val_accuracy: 0.2500\n",
            "Epoch 16/50\n",
            "625/625 [==============================] - 22s 36ms/step - loss: 8.1243 - accuracy: 0.2500 - val_loss: 8.0590 - val_accuracy: 0.2500\n",
            "Epoch 17/50\n",
            "625/625 [==============================] - 22s 35ms/step - loss: 8.1187 - accuracy: 0.2500 - val_loss: 8.0590 - val_accuracy: 0.2500\n",
            "Epoch 18/50\n",
            "625/625 [==============================] - 21s 33ms/step - loss: 8.1187 - accuracy: 0.2501 - val_loss: 8.0590 - val_accuracy: 0.2500\n",
            "Epoch 19/50\n",
            "625/625 [==============================] - 22s 35ms/step - loss: 8.1010 - accuracy: 0.2500 - val_loss: 8.0590 - val_accuracy: 0.2500\n",
            "Epoch 20/50\n",
            "625/625 [==============================] - 23s 37ms/step - loss: 8.1517 - accuracy: 0.2500 - val_loss: 8.0590 - val_accuracy: 0.2500\n",
            "Epoch 21/50\n",
            "625/625 [==============================] - 21s 34ms/step - loss: 8.1106 - accuracy: 0.2500 - val_loss: 8.0590 - val_accuracy: 0.2500\n",
            "Epoch 22/50\n",
            "625/625 [==============================] - 22s 36ms/step - loss: 8.1638 - accuracy: 0.2500 - val_loss: 8.0590 - val_accuracy: 0.2500\n",
            "Epoch 23/50\n",
            "625/625 [==============================] - 22s 36ms/step - loss: 8.1533 - accuracy: 0.2500 - val_loss: 8.0590 - val_accuracy: 0.2500\n",
            "Epoch 24/50\n",
            "625/625 [==============================] - 21s 33ms/step - loss: 8.0953 - accuracy: 0.2500 - val_loss: 8.0590 - val_accuracy: 0.2500\n",
            "Epoch 25/50\n",
            "625/625 [==============================] - 22s 36ms/step - loss: 8.0872 - accuracy: 0.2500 - val_loss: 8.0590 - val_accuracy: 0.2500\n",
            "Epoch 26/50\n",
            "625/625 [==============================] - 22s 35ms/step - loss: 8.1010 - accuracy: 0.2501 - val_loss: 8.0590 - val_accuracy: 0.2500\n",
            "Epoch 27/50\n",
            "625/625 [==============================] - 21s 33ms/step - loss: 8.1275 - accuracy: 0.2500 - val_loss: 8.0590 - val_accuracy: 0.2500\n",
            "Epoch 28/50\n",
            "625/625 [==============================] - 26s 42ms/step - loss: 8.1396 - accuracy: 0.2501 - val_loss: 8.0590 - val_accuracy: 0.2500\n",
            "Epoch 29/50\n",
            "625/625 [==============================] - 23s 36ms/step - loss: 8.1509 - accuracy: 0.2500 - val_loss: 8.0590 - val_accuracy: 0.2500\n",
            "Epoch 30/50\n",
            "625/625 [==============================] - 22s 34ms/step - loss: 8.1590 - accuracy: 0.2500 - val_loss: 8.0590 - val_accuracy: 0.2500\n",
            "Epoch 31/50\n",
            "625/625 [==============================] - 22s 35ms/step - loss: 8.0873 - accuracy: 0.2500 - val_loss: 8.0590 - val_accuracy: 0.2500\n",
            "Epoch 32/50\n",
            "625/625 [==============================] - 22s 35ms/step - loss: 8.1380 - accuracy: 0.2500 - val_loss: 8.0590 - val_accuracy: 0.2500\n",
            "Epoch 33/50\n",
            "625/625 [==============================] - 22s 35ms/step - loss: 8.0800 - accuracy: 0.2500 - val_loss: 8.0590 - val_accuracy: 0.2500\n",
            "Epoch 34/50\n",
            "625/625 [==============================] - 21s 33ms/step - loss: 8.1042 - accuracy: 0.2500 - val_loss: 8.0590 - val_accuracy: 0.2500\n",
            "Epoch 35/50\n",
            "625/625 [==============================] - 22s 35ms/step - loss: 8.1549 - accuracy: 0.2500 - val_loss: 8.0590 - val_accuracy: 0.2500\n",
            "Epoch 36/50\n",
            "625/625 [==============================] - 23s 36ms/step - loss: 8.1356 - accuracy: 0.2500 - val_loss: 8.0590 - val_accuracy: 0.2500\n",
            "Epoch 37/50\n",
            "625/625 [==============================] - 22s 35ms/step - loss: 8.1324 - accuracy: 0.2500 - val_loss: 8.0590 - val_accuracy: 0.2500\n",
            "Epoch 38/50\n",
            "625/625 [==============================] - 22s 35ms/step - loss: 8.1872 - accuracy: 0.2500 - val_loss: 8.0590 - val_accuracy: 0.2500\n",
            "Epoch 39/50\n",
            "625/625 [==============================] - 21s 33ms/step - loss: 8.1292 - accuracy: 0.2500 - val_loss: 8.0590 - val_accuracy: 0.2500\n",
            "Epoch 40/50\n",
            "625/625 [==============================] - 22s 35ms/step - loss: 8.0897 - accuracy: 0.2500 - val_loss: 8.0590 - val_accuracy: 0.2500\n",
            "Epoch 41/50\n",
            "625/625 [==============================] - 22s 35ms/step - loss: 8.0969 - accuracy: 0.2500 - val_loss: 8.0590 - val_accuracy: 0.2500\n",
            "Epoch 42/50\n",
            "625/625 [==============================] - 21s 34ms/step - loss: 8.1759 - accuracy: 0.2501 - val_loss: 8.0590 - val_accuracy: 0.2500\n",
            "Epoch 43/50\n",
            "625/625 [==============================] - 21s 33ms/step - loss: 8.1485 - accuracy: 0.2500 - val_loss: 8.0590 - val_accuracy: 0.2500\n",
            "Epoch 44/50\n",
            "625/625 [==============================] - 23s 36ms/step - loss: 8.1219 - accuracy: 0.2500 - val_loss: 8.0590 - val_accuracy: 0.2500\n",
            "Epoch 45/50\n",
            "625/625 [==============================] - 22s 35ms/step - loss: 8.0864 - accuracy: 0.2500 - val_loss: 8.0590 - val_accuracy: 0.2500\n",
            "Epoch 46/50\n",
            "625/625 [==============================] - 22s 35ms/step - loss: 8.1251 - accuracy: 0.2500 - val_loss: 8.0590 - val_accuracy: 0.2500\n",
            "Epoch 47/50\n",
            "625/625 [==============================] - 21s 34ms/step - loss: 8.0848 - accuracy: 0.2500 - val_loss: 8.0590 - val_accuracy: 0.2500\n",
            "Epoch 48/50\n",
            "625/625 [==============================] - 21s 34ms/step - loss: 8.1139 - accuracy: 0.2500 - val_loss: 8.0590 - val_accuracy: 0.2500\n",
            "Epoch 49/50\n",
            "625/625 [==============================] - 22s 35ms/step - loss: 8.1678 - accuracy: 0.2500 - val_loss: 8.0590 - val_accuracy: 0.2500\n",
            "Epoch 50/50\n",
            "625/625 [==============================] - 22s 35ms/step - loss: 8.1340 - accuracy: 0.2500 - val_loss: 8.0590 - val_accuracy: 0.2500\n",
            "Run time [s]:  1103.8430950641632\n"
          ]
        }
      ]
    },
    {
      "cell_type": "code",
      "source": [
        "plt.figure(figsize=(4,4))\n",
        "\n",
        "plt.plot(history.history['accuracy'], label='accuracy')\n",
        "plt.plot(history.history['val_accuracy'], label='val_accuracy')\n",
        "plt.xlabel('Epochs')\n",
        "plt.ylabel('Accuracy')\n",
        "# plt.ylim([0.5,1])\n",
        "plt.legend(loc = 'lower right');\n",
        "\n"
      ],
      "metadata": {
        "colab": {
          "base_uri": "https://localhost:8080/",
          "height": 388
        },
        "id": "RJVBAI3Ux6MW",
        "outputId": "ef4d4aee-f350-4799-c563-79c8884f455e"
      },
      "execution_count": null,
      "outputs": [
        {
          "output_type": "display_data",
          "data": {
            "text/plain": [
              "<Figure size 400x400 with 1 Axes>"
            ],
            "image/png": "[encoded data removed]"
          },
          "metadata": {}
        }
      ]
    },
    {
      "cell_type": "code",
      "source": [
        "model.evaluate(x_test, y_test)"
      ],
      "metadata": {
        "colab": {
          "base_uri": "https://localhost:8080/"
        },
        "id": "qW34i7bj2Llt",
        "outputId": "6ce3c04d-7ecd-455f-b5aa-7fd8f3e836a6"
      },
      "execution_count": null,
      "outputs": [
        {
          "output_type": "stream",
          "name": "stdout",
          "text": [
            "125/125 [==============================] - 1s 10ms/step - loss: 8.0590 - accuracy: 0.2500\n"
          ]
        },
        {
          "output_type": "execute_result",
          "data": {
            "text/plain": [
              "[8.05904769897461, 0.25]"
            ]
          },
          "metadata": {},
          "execution_count": 24
        }
      ]
    },
    {
      "cell_type": "markdown",
      "source": [
        "**batch_size= 64**"
      ],
      "metadata": {
        "id": "Sb0zATtN7wno"
      }
    },
    {
      "cell_type": "code",
      "source": [
        "start = time.time()\n",
        "\n",
        "history = model.fit(x_train_filtered , y_train, epochs=50 , batch_size = 64, validation_data=(x_test_filtered, y_test))\n",
        "model.save('cifar.h5')\n",
        "\n",
        "end = time.time()\n",
        "print(\"Run time [s]: \",end-start)"
      ],
      "metadata": {
        "colab": {
          "base_uri": "https://localhost:8080/"
        },
        "id": "blnUzJD771lV",
        "outputId": "408fc545-0639-41ed-8aa9-c53ddb17f33e"
      },
      "execution_count": null,
      "outputs": [
        {
          "output_type": "stream",
          "name": "stdout",
          "text": [
            "Epoch 1/50\n",
            "313/313 [==============================] - 24s 74ms/step - loss: 8.0752 - accuracy: 0.2500 - val_loss: 8.0590 - val_accuracy: 0.2500\n",
            "Epoch 2/50\n",
            "313/313 [==============================] - 19s 62ms/step - loss: 8.1477 - accuracy: 0.2500 - val_loss: 8.0590 - val_accuracy: 0.2500\n",
            "Epoch 3/50\n",
            "313/313 [==============================] - 21s 67ms/step - loss: 8.1638 - accuracy: 0.2500 - val_loss: 8.0590 - val_accuracy: 0.2500\n",
            "Epoch 4/50\n",
            "313/313 [==============================] - 22s 69ms/step - loss: 8.1050 - accuracy: 0.2500 - val_loss: 8.0590 - val_accuracy: 0.2500\n",
            "Epoch 5/50\n",
            "313/313 [==============================] - 20s 63ms/step - loss: 8.1590 - accuracy: 0.2500 - val_loss: 8.0590 - val_accuracy: 0.2500\n",
            "Epoch 6/50\n",
            "313/313 [==============================] - 21s 67ms/step - loss: 8.0679 - accuracy: 0.2500 - val_loss: 8.0590 - val_accuracy: 0.2500\n",
            "Epoch 7/50\n",
            "313/313 [==============================] - 20s 63ms/step - loss: 8.1034 - accuracy: 0.2500 - val_loss: 8.0590 - val_accuracy: 0.2500\n",
            "Epoch 8/50\n",
            "313/313 [==============================] - 21s 66ms/step - loss: 8.1195 - accuracy: 0.2500 - val_loss: 8.0590 - val_accuracy: 0.2500\n",
            "Epoch 9/50\n",
            "313/313 [==============================] - 19s 62ms/step - loss: 8.1783 - accuracy: 0.2500 - val_loss: 8.0590 - val_accuracy: 0.2500\n",
            "Epoch 10/50\n",
            "313/313 [==============================] - 22s 71ms/step - loss: 8.1147 - accuracy: 0.2500 - val_loss: 8.0590 - val_accuracy: 0.2500\n",
            "Epoch 11/50\n",
            "313/313 [==============================] - 20s 63ms/step - loss: 8.1034 - accuracy: 0.2500 - val_loss: 8.0590 - val_accuracy: 0.2500\n",
            "Epoch 12/50\n",
            "313/313 [==============================] - 21s 66ms/step - loss: 8.1018 - accuracy: 0.2500 - val_loss: 8.0590 - val_accuracy: 0.2500\n",
            "Epoch 13/50\n",
            "313/313 [==============================] - 19s 61ms/step - loss: 8.1171 - accuracy: 0.2501 - val_loss: 8.0590 - val_accuracy: 0.2500\n",
            "Epoch 14/50\n",
            "313/313 [==============================] - 21s 67ms/step - loss: 8.1437 - accuracy: 0.2500 - val_loss: 8.0590 - val_accuracy: 0.2500\n",
            "Epoch 15/50\n",
            "313/313 [==============================] - 20s 62ms/step - loss: 8.1485 - accuracy: 0.2500 - val_loss: 8.0590 - val_accuracy: 0.2500\n",
            "Epoch 16/50\n",
            "313/313 [==============================] - 21s 67ms/step - loss: 8.0864 - accuracy: 0.2500 - val_loss: 8.0590 - val_accuracy: 0.2500\n",
            "Epoch 17/50\n",
            "313/313 [==============================] - 20s 63ms/step - loss: 8.1138 - accuracy: 0.2500 - val_loss: 8.0590 - val_accuracy: 0.2500\n",
            "Epoch 18/50\n",
            "313/313 [==============================] - 21s 66ms/step - loss: 8.0969 - accuracy: 0.2500 - val_loss: 8.0590 - val_accuracy: 0.2500\n",
            "Epoch 19/50\n",
            "313/313 [==============================] - 21s 67ms/step - loss: 8.1300 - accuracy: 0.2500 - val_loss: 8.0590 - val_accuracy: 0.2500\n",
            "Epoch 20/50\n",
            "313/313 [==============================] - 20s 65ms/step - loss: 8.0889 - accuracy: 0.2500 - val_loss: 8.0590 - val_accuracy: 0.2500\n",
            "Epoch 21/50\n",
            "313/313 [==============================] - 21s 67ms/step - loss: 8.1284 - accuracy: 0.2501 - val_loss: 8.0590 - val_accuracy: 0.2500\n",
            "Epoch 22/50\n",
            "313/313 [==============================] - 20s 63ms/step - loss: 8.1147 - accuracy: 0.2500 - val_loss: 8.0590 - val_accuracy: 0.2500\n",
            "Epoch 23/50\n",
            "313/313 [==============================] - 21s 66ms/step - loss: 8.0873 - accuracy: 0.2500 - val_loss: 8.0590 - val_accuracy: 0.2500\n",
            "Epoch 24/50\n",
            "313/313 [==============================] - 19s 62ms/step - loss: 8.1340 - accuracy: 0.2500 - val_loss: 8.0590 - val_accuracy: 0.2500\n",
            "Epoch 25/50\n",
            "313/313 [==============================] - 21s 67ms/step - loss: 8.1412 - accuracy: 0.2500 - val_loss: 8.0590 - val_accuracy: 0.2500\n",
            "Epoch 26/50\n",
            "313/313 [==============================] - 20s 62ms/step - loss: 8.0703 - accuracy: 0.2500 - val_loss: 8.0590 - val_accuracy: 0.2500\n",
            "Epoch 27/50\n",
            "313/313 [==============================] - 23s 74ms/step - loss: 8.1662 - accuracy: 0.2501 - val_loss: 8.0590 - val_accuracy: 0.2500\n",
            "Epoch 28/50\n",
            "313/313 [==============================] - 19s 62ms/step - loss: 8.1372 - accuracy: 0.2500 - val_loss: 8.0590 - val_accuracy: 0.2500\n",
            "Epoch 29/50\n",
            "313/313 [==============================] - 23s 74ms/step - loss: 8.1566 - accuracy: 0.2500 - val_loss: 8.0590 - val_accuracy: 0.2500\n",
            "Epoch 30/50\n",
            "313/313 [==============================] - 21s 66ms/step - loss: 8.1396 - accuracy: 0.2500 - val_loss: 8.0590 - val_accuracy: 0.2500\n",
            "Epoch 31/50\n",
            "313/313 [==============================] - 19s 62ms/step - loss: 8.1203 - accuracy: 0.2500 - val_loss: 8.0590 - val_accuracy: 0.2500\n",
            "Epoch 32/50\n",
            "313/313 [==============================] - 21s 67ms/step - loss: 8.1195 - accuracy: 0.2500 - val_loss: 8.0590 - val_accuracy: 0.2500\n",
            "Epoch 33/50\n",
            "313/313 [==============================] - 19s 62ms/step - loss: 8.1267 - accuracy: 0.2501 - val_loss: 8.0590 - val_accuracy: 0.2500\n",
            "Epoch 34/50\n",
            "313/313 [==============================] - 21s 67ms/step - loss: 8.1066 - accuracy: 0.2500 - val_loss: 8.0590 - val_accuracy: 0.2500\n",
            "Epoch 35/50\n",
            "313/313 [==============================] - 20s 63ms/step - loss: 8.1646 - accuracy: 0.2500 - val_loss: 8.0590 - val_accuracy: 0.2500\n",
            "Epoch 36/50\n",
            "313/313 [==============================] - 28s 89ms/step - loss: 8.1308 - accuracy: 0.2500 - val_loss: 8.0590 - val_accuracy: 0.2500\n",
            "Epoch 37/50\n",
            "313/313 [==============================] - 21s 67ms/step - loss: 8.0768 - accuracy: 0.2500 - val_loss: 8.0590 - val_accuracy: 0.2500\n",
            "Epoch 38/50\n",
            "313/313 [==============================] - 20s 65ms/step - loss: 8.1485 - accuracy: 0.2500 - val_loss: 8.0590 - val_accuracy: 0.2500\n",
            "Epoch 39/50\n",
            "313/313 [==============================] - 19s 62ms/step - loss: 8.0937 - accuracy: 0.2500 - val_loss: 8.0590 - val_accuracy: 0.2500\n",
            "Epoch 40/50\n",
            "313/313 [==============================] - 20s 64ms/step - loss: 8.0590 - accuracy: 0.2500 - val_loss: 8.0590 - val_accuracy: 0.2500\n",
            "Epoch 41/50\n",
            "313/313 [==============================] - 21s 66ms/step - loss: 8.1147 - accuracy: 0.2500 - val_loss: 8.0590 - val_accuracy: 0.2500\n",
            "Epoch 42/50\n",
            "313/313 [==============================] - 19s 62ms/step - loss: 8.1622 - accuracy: 0.2500 - val_loss: 8.0590 - val_accuracy: 0.2500\n",
            "Epoch 43/50\n",
            "313/313 [==============================] - 20s 65ms/step - loss: 8.0550 - accuracy: 0.2500 - val_loss: 8.0590 - val_accuracy: 0.2500\n",
            "Epoch 44/50\n",
            "313/313 [==============================] - 22s 70ms/step - loss: 8.0744 - accuracy: 0.2500 - val_loss: 8.0590 - val_accuracy: 0.2500\n",
            "Epoch 45/50\n",
            "313/313 [==============================] - 19s 62ms/step - loss: 8.1050 - accuracy: 0.2500 - val_loss: 8.0590 - val_accuracy: 0.2500\n",
            "Epoch 46/50\n",
            "313/313 [==============================] - 20s 65ms/step - loss: 8.0993 - accuracy: 0.2500 - val_loss: 8.0590 - val_accuracy: 0.2500\n",
            "Epoch 47/50\n",
            "313/313 [==============================] - 20s 64ms/step - loss: 8.1582 - accuracy: 0.2500 - val_loss: 8.0590 - val_accuracy: 0.2500\n",
            "Epoch 48/50\n",
            "313/313 [==============================] - 19s 62ms/step - loss: 8.1324 - accuracy: 0.2499 - val_loss: 8.0590 - val_accuracy: 0.2500\n",
            "Epoch 49/50\n",
            "313/313 [==============================] - 20s 65ms/step - loss: 8.1203 - accuracy: 0.2500 - val_loss: 8.0590 - val_accuracy: 0.2500\n",
            "Epoch 50/50\n",
            "313/313 [==============================] - 20s 62ms/step - loss: 8.1574 - accuracy: 0.2500 - val_loss: 8.0590 - val_accuracy: 0.2500\n",
            "Run time [s]:  1028.444711446762\n"
          ]
        }
      ]
    },
    {
      "cell_type": "code",
      "source": [
        "plt.figure(figsize=(4,4))\n",
        "\n",
        "plt.plot(history.history['accuracy'], label='accuracy')\n",
        "plt.plot(history.history['val_accuracy'], label='val_accuracy')\n",
        "plt.xlabel('Epochs')\n",
        "plt.ylabel('Accuracy')\n",
        "# plt.ylim([0.5,1])\n",
        "plt.legend(loc = 'lower right');\n"
      ],
      "metadata": {
        "colab": {
          "base_uri": "https://localhost:8080/",
          "height": 388
        },
        "id": "CAYvzTx779oe",
        "outputId": "92eb04ac-9ded-4ff8-9810-0072a72ac3bb"
      },
      "execution_count": null,
      "outputs": [
        {
          "output_type": "display_data",
          "data": {
            "text/plain": [
              "<Figure size 400x400 with 1 Axes>"
            ],
            "image/png": "[encoded data removed]"
          },
          "metadata": {}
        }
      ]
    },
    {
      "cell_type": "code",
      "source": [
        "model.evaluate(x_test, y_test)"
      ],
      "metadata": {
        "colab": {
          "base_uri": "https://localhost:8080/"
        },
        "id": "Jr3GPwb-8B7O",
        "outputId": "4203c8ff-c4bf-4d86-b139-16e8b8f4933b"
      },
      "execution_count": null,
      "outputs": [
        {
          "output_type": "stream",
          "name": "stdout",
          "text": [
            "125/125 [==============================] - 1s 10ms/step - loss: 8.0590 - accuracy: 0.2500\n"
          ]
        },
        {
          "output_type": "execute_result",
          "data": {
            "text/plain": [
              "[8.05904769897461, 0.25]"
            ]
          },
          "metadata": {},
          "execution_count": 27
        }
      ]
    },
    {
      "cell_type": "markdown",
      "source": [
        "**batch_size= 128**"
      ],
      "metadata": {
        "id": "S8O5g5UCGfiD"
      }
    },
    {
      "cell_type": "code",
      "source": [
        "start = time.time()\n",
        "\n",
        "history = model.fit(x_train_filtered , y_train, epochs=50 , batch_size = 128, validation_data=(x_test_filtered, y_test))\n",
        "model.save('cifar.h5')\n",
        "\n",
        "end = time.time()\n",
        "print(\"Run time [s]: \",end-start)"
      ],
      "metadata": {
        "colab": {
          "base_uri": "https://localhost:8080/"
        },
        "id": "sg-fYp3JGnmb",
        "outputId": "789b3d3c-7eec-41de-e4c0-42b0bde4fbe4"
      },
      "execution_count": null,
      "outputs": [
        {
          "output_type": "stream",
          "name": "stdout",
          "text": [
            "Epoch 1/50\n",
            "157/157 [==============================] - 24s 150ms/step - loss: 8.1018 - accuracy: 0.2500 - val_loss: 8.0590 - val_accuracy: 0.2500\n",
            "Epoch 2/50\n",
            "157/157 [==============================] - 18s 116ms/step - loss: 8.1791 - accuracy: 0.2500 - val_loss: 8.0590 - val_accuracy: 0.2500\n",
            "Epoch 3/50\n",
            "157/157 [==============================] - 18s 115ms/step - loss: 8.1396 - accuracy: 0.2500 - val_loss: 8.0590 - val_accuracy: 0.2500\n",
            "Epoch 4/50\n",
            "157/157 [==============================] - 19s 119ms/step - loss: 8.1163 - accuracy: 0.2500 - val_loss: 8.0590 - val_accuracy: 0.2500\n",
            "Epoch 5/50\n",
            "157/157 [==============================] - 18s 113ms/step - loss: 8.1147 - accuracy: 0.2501 - val_loss: 8.0590 - val_accuracy: 0.2500\n",
            "Epoch 6/50\n",
            "157/157 [==============================] - 19s 122ms/step - loss: 8.0744 - accuracy: 0.2500 - val_loss: 8.0590 - val_accuracy: 0.2500\n",
            "Epoch 7/50\n",
            "157/157 [==============================] - 18s 112ms/step - loss: 8.1082 - accuracy: 0.2500 - val_loss: 8.0590 - val_accuracy: 0.2500\n",
            "Epoch 8/50\n",
            "157/157 [==============================] - 18s 115ms/step - loss: 8.1461 - accuracy: 0.2500 - val_loss: 8.0590 - val_accuracy: 0.2500\n",
            "Epoch 9/50\n",
            "157/157 [==============================] - 19s 122ms/step - loss: 8.1300 - accuracy: 0.2500 - val_loss: 8.0590 - val_accuracy: 0.2500\n",
            "Epoch 10/50\n",
            "157/157 [==============================] - 18s 115ms/step - loss: 8.1042 - accuracy: 0.2500 - val_loss: 8.0590 - val_accuracy: 0.2500\n",
            "Epoch 11/50\n",
            "157/157 [==============================] - 21s 133ms/step - loss: 8.1122 - accuracy: 0.2500 - val_loss: 8.0590 - val_accuracy: 0.2500\n",
            "Epoch 12/50\n",
            "157/157 [==============================] - 18s 114ms/step - loss: 8.0760 - accuracy: 0.2500 - val_loss: 8.0590 - val_accuracy: 0.2500\n",
            "Epoch 13/50\n",
            "157/157 [==============================] - 19s 119ms/step - loss: 8.1235 - accuracy: 0.2500 - val_loss: 8.0590 - val_accuracy: 0.2500\n",
            "Epoch 14/50\n",
            "157/157 [==============================] - 18s 116ms/step - loss: 8.1219 - accuracy: 0.2500 - val_loss: 8.0590 - val_accuracy: 0.2500\n",
            "Epoch 15/50\n",
            "157/157 [==============================] - 18s 115ms/step - loss: 8.1002 - accuracy: 0.2500 - val_loss: 8.0590 - val_accuracy: 0.2500\n",
            "Epoch 16/50\n",
            "157/157 [==============================] - 19s 124ms/step - loss: 8.1509 - accuracy: 0.2500 - val_loss: 8.0590 - val_accuracy: 0.2500\n",
            "Epoch 17/50\n",
            "157/157 [==============================] - 18s 115ms/step - loss: 8.1001 - accuracy: 0.2500 - val_loss: 8.0590 - val_accuracy: 0.2500\n",
            "Epoch 18/50\n",
            "157/157 [==============================] - 20s 128ms/step - loss: 8.1130 - accuracy: 0.2500 - val_loss: 8.0590 - val_accuracy: 0.2500\n",
            "Epoch 19/50\n",
            "157/157 [==============================] - 18s 115ms/step - loss: 8.1485 - accuracy: 0.2501 - val_loss: 8.0590 - val_accuracy: 0.2500\n",
            "Epoch 20/50\n",
            "157/157 [==============================] - 18s 115ms/step - loss: 8.1340 - accuracy: 0.2500 - val_loss: 8.0590 - val_accuracy: 0.2500\n",
            "Epoch 21/50\n",
            "157/157 [==============================] - 20s 130ms/step - loss: 8.0413 - accuracy: 0.2500 - val_loss: 8.0590 - val_accuracy: 0.2500\n",
            "Epoch 22/50\n",
            "157/157 [==============================] - 17s 112ms/step - loss: 8.1034 - accuracy: 0.2500 - val_loss: 8.0590 - val_accuracy: 0.2500\n",
            "Epoch 23/50\n",
            "157/157 [==============================] - 19s 124ms/step - loss: 8.1735 - accuracy: 0.2500 - val_loss: 8.0590 - val_accuracy: 0.2500\n",
            "Epoch 24/50\n",
            "157/157 [==============================] - 18s 115ms/step - loss: 8.1155 - accuracy: 0.2500 - val_loss: 8.0590 - val_accuracy: 0.2500\n",
            "Epoch 25/50\n",
            "157/157 [==============================] - 20s 127ms/step - loss: 8.1219 - accuracy: 0.2500 - val_loss: 8.0590 - val_accuracy: 0.2500\n",
            "Epoch 26/50\n",
            "157/157 [==============================] - 18s 112ms/step - loss: 8.1316 - accuracy: 0.2500 - val_loss: 8.0590 - val_accuracy: 0.2500\n",
            "Epoch 27/50\n",
            "157/157 [==============================] - 18s 116ms/step - loss: 8.1332 - accuracy: 0.2500 - val_loss: 8.0590 - val_accuracy: 0.2500\n",
            "Epoch 28/50\n",
            "157/157 [==============================] - 19s 122ms/step - loss: 8.0913 - accuracy: 0.2500 - val_loss: 8.0590 - val_accuracy: 0.2500\n",
            "Epoch 29/50\n",
            "157/157 [==============================] - 18s 115ms/step - loss: 8.0889 - accuracy: 0.2500 - val_loss: 8.0590 - val_accuracy: 0.2500\n",
            "Epoch 30/50\n",
            "157/157 [==============================] - 21s 134ms/step - loss: 8.0913 - accuracy: 0.2500 - val_loss: 8.0590 - val_accuracy: 0.2500\n",
            "Epoch 31/50\n",
            "157/157 [==============================] - 18s 115ms/step - loss: 8.1396 - accuracy: 0.2500 - val_loss: 8.0590 - val_accuracy: 0.2500\n",
            "Epoch 32/50\n",
            "157/157 [==============================] - 20s 127ms/step - loss: 8.0639 - accuracy: 0.2500 - val_loss: 8.0590 - val_accuracy: 0.2500\n",
            "Epoch 33/50\n",
            "157/157 [==============================] - 18s 115ms/step - loss: 8.1469 - accuracy: 0.2499 - val_loss: 8.0590 - val_accuracy: 0.2500\n",
            "Epoch 34/50\n",
            "157/157 [==============================] - 24s 151ms/step - loss: 8.1235 - accuracy: 0.2500 - val_loss: 8.0590 - val_accuracy: 0.2500\n",
            "Epoch 35/50\n",
            "157/157 [==============================] - 25s 161ms/step - loss: 8.1437 - accuracy: 0.2500 - val_loss: 8.0590 - val_accuracy: 0.2500\n",
            "Epoch 36/50\n",
            "157/157 [==============================] - 18s 116ms/step - loss: 8.1138 - accuracy: 0.2500 - val_loss: 8.0590 - val_accuracy: 0.2500\n",
            "Epoch 37/50\n",
            "157/157 [==============================] - 20s 125ms/step - loss: 8.1179 - accuracy: 0.2500 - val_loss: 8.0590 - val_accuracy: 0.2500\n",
            "Epoch 38/50\n",
            "157/157 [==============================] - 18s 114ms/step - loss: 8.1034 - accuracy: 0.2500 - val_loss: 8.0590 - val_accuracy: 0.2500\n",
            "Epoch 39/50\n",
            "157/157 [==============================] - 22s 143ms/step - loss: 8.1163 - accuracy: 0.2501 - val_loss: 8.0590 - val_accuracy: 0.2500\n",
            "Epoch 40/50\n",
            "157/157 [==============================] - 18s 115ms/step - loss: 8.1155 - accuracy: 0.2500 - val_loss: 8.0590 - val_accuracy: 0.2500\n",
            "Epoch 41/50\n",
            "157/157 [==============================] - 18s 116ms/step - loss: 8.1566 - accuracy: 0.2500 - val_loss: 8.0590 - val_accuracy: 0.2500\n",
            "Epoch 42/50\n",
            "157/157 [==============================] - 19s 121ms/step - loss: 8.0945 - accuracy: 0.2500 - val_loss: 8.0590 - val_accuracy: 0.2500\n",
            "Epoch 43/50\n",
            "157/157 [==============================] - 18s 115ms/step - loss: 8.1284 - accuracy: 0.2500 - val_loss: 8.0590 - val_accuracy: 0.2500\n",
            "Epoch 44/50\n",
            "157/157 [==============================] - 20s 124ms/step - loss: 8.1203 - accuracy: 0.2500 - val_loss: 8.0590 - val_accuracy: 0.2500\n",
            "Epoch 45/50\n",
            "157/157 [==============================] - 18s 113ms/step - loss: 8.1195 - accuracy: 0.2500 - val_loss: 8.0590 - val_accuracy: 0.2500\n",
            "Epoch 46/50\n",
            "157/157 [==============================] - 19s 124ms/step - loss: 8.1582 - accuracy: 0.2500 - val_loss: 8.0590 - val_accuracy: 0.2500\n",
            "Epoch 47/50\n",
            "157/157 [==============================] - 18s 113ms/step - loss: 8.1614 - accuracy: 0.2500 - val_loss: 8.0590 - val_accuracy: 0.2500\n",
            "Epoch 48/50\n",
            "157/157 [==============================] - 20s 125ms/step - loss: 8.1106 - accuracy: 0.2500 - val_loss: 8.0590 - val_accuracy: 0.2500\n",
            "Epoch 49/50\n",
            "157/157 [==============================] - 19s 121ms/step - loss: 8.1106 - accuracy: 0.2500 - val_loss: 8.0590 - val_accuracy: 0.2500\n",
            "Epoch 50/50\n",
            "157/157 [==============================] - 18s 115ms/step - loss: 8.1138 - accuracy: 0.2500 - val_loss: 8.0590 - val_accuracy: 0.2500\n",
            "Run time [s]:  953.275913476944\n"
          ]
        }
      ]
    },
    {
      "cell_type": "code",
      "source": [
        "plt.figure(figsize=(4,4))\n",
        "\n",
        "plt.plot(history.history['accuracy'], label='accuracy')\n",
        "plt.plot(history.history['val_accuracy'], label='val_accuracy')\n",
        "plt.xlabel('Epochs')\n",
        "plt.ylabel('Accuracy')\n",
        "# plt.ylim([0.5,1])\n",
        "plt.legend(loc = 'lower right');"
      ],
      "metadata": {
        "colab": {
          "base_uri": "https://localhost:8080/",
          "height": 388
        },
        "id": "szJo_eF7GvfH",
        "outputId": "4c3206ae-37d4-4fce-acb9-0edacf9109e2"
      },
      "execution_count": null,
      "outputs": [
        {
          "output_type": "display_data",
          "data": {
            "text/plain": [
              "<Figure size 400x400 with 1 Axes>"
            ],
            "image/png": "[encoded data removed]"
          },
          "metadata": {}
        }
      ]
    },
    {
      "cell_type": "code",
      "source": [
        "model.evaluate(x_test, y_test)"
      ],
      "metadata": {
        "colab": {
          "base_uri": "https://localhost:8080/"
        },
        "id": "krVBKJpfGzKy",
        "outputId": "6e48f77a-79f1-4b7a-f8b1-87b3d152369e"
      },
      "execution_count": null,
      "outputs": [
        {
          "output_type": "stream",
          "name": "stdout",
          "text": [
            "125/125 [==============================] - 1s 10ms/step - loss: 8.0590 - accuracy: 0.2500\n"
          ]
        },
        {
          "output_type": "execute_result",
          "data": {
            "text/plain": [
              "[8.05904769897461, 0.25]"
            ]
          },
          "metadata": {},
          "execution_count": 32
        }
      ]
    }
  ]
}