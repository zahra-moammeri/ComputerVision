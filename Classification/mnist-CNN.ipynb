{
  "cells": [
    {
      "cell_type": "code",
      "execution_count": null,
      "metadata": {
        "id": "VKqINLawe4_3"
      },
      "outputs": [],
      "source": [
        "import torch\n",
        "import torch.nn as nn\n",
        "import torch.optim as optim\n",
        "import  torch.nn.functional as F\n",
        "from torch.utils.data import DataLoader\n",
        "import torchvision.datasets as datasets\n",
        "import torchvision.transforms as transforms\n",
        "\n",
        "from tqdm import tqdm  # For nice progress bar!"
      ]
    },
    {
      "cell_type": "markdown",
      "metadata": {
        "id": "P62iR8LJfuUm"
      },
      "source": [
        "# CNN"
      ]
    },
    {
      "cell_type": "code",
      "execution_count": null,
      "metadata": {
        "id": "DdamjTJbft4O"
      },
      "outputs": [],
      "source": [
        "class CNN(nn.Module):\n",
        "  def __init__(self, in_channels=1, num_classes=10):\n",
        "    super(CNN, self).__init__()\n",
        "    self.conv1 = nn.Conv2d(\n",
        "        in_channels=1,\n",
        "        out_channels=8,\n",
        "        kernel_size=3 ,\n",
        "        stride=1,\n",
        "        padding=1)  # it called same convolution\n",
        "    self.pool = nn.MaxPool2d(kernel_size=2, stride=2)\n",
        "    self.conv2 = nn.Conv2d(\n",
        "        in_channels=8,\n",
        "        out_channels=16,\n",
        "        kernel_size=3,\n",
        "        stride=1,\n",
        "        padding=1)\n",
        "    self.fc1 = nn.Linear(16 * 7 * 7, num_classes)\n",
        "\n",
        "\n",
        "  def forward(self, x):\n",
        "    x = F.relu(self.conv1(x))\n",
        "    x = self.pool(x)\n",
        "    x = F.relu(self.conv2(x))\n",
        "    x = self.pool(x)\n",
        "    x = x.reshape(x.shape[0], -1)\n",
        "    x = self.fc1(x)\n",
        "\n",
        "    return x\n"
      ]
    },
    {
      "cell_type": "code",
      "execution_count": null,
      "metadata": {
        "colab": {
          "base_uri": "https://localhost:8080/"
        },
        "id": "2UyG2vulkiZr",
        "outputId": "8b26336e-f51f-42ef-cb7c-ca6003e01726"
      },
      "outputs": [
        {
          "data": {
            "text/plain": [
              "torch.Size([64, 10])"
            ]
          },
          "execution_count": 13,
          "metadata": {},
          "output_type": "execute_result"
        }
      ],
      "source": [
        "model = CNN()\n",
        "x = torch.randn(64, 1, 28, 28)\n",
        "model(x).shape\n"
      ]
    },
    {
      "cell_type": "code",
      "execution_count": null,
      "metadata": {
        "colab": {
          "base_uri": "https://localhost:8080/"
        },
        "id": "Fgvna4tas9b2",
        "outputId": "86246578-3e0e-4e8b-c58d-2f40f6fc05b2"
      },
      "outputs": [
        {
          "data": {
            "text/plain": [
              "device(type='cuda')"
            ]
          },
          "execution_count": 14,
          "metadata": {},
          "output_type": "execute_result"
        }
      ],
      "source": [
        "device= torch.device('cuda' if torch.cuda.is_available else 'cpu')\n",
        "device"
      ]
    },
    {
      "cell_type": "code",
      "execution_count": null,
      "metadata": {
        "id": "Z7UALkF7tC3k"
      },
      "outputs": [],
      "source": [
        "in_channels = 1\n",
        "num_classes = 10\n",
        "learning_rate= 0.001\n",
        "batch_size = 64\n",
        "num_epochs = 5"
      ]
    },
    {
      "cell_type": "code",
      "execution_count": null,
      "metadata": {
        "id": "zC7NRYN0tJTD"
      },
      "outputs": [],
      "source": [
        "train_dataset = datasets.MNIST(root='datasets/', train=True, transform=transforms.ToTensor(), download=True)\n",
        "train_loader = DataLoader(dataset=train_dataset, batch_size=batch_size, shuffle=True)\n",
        "\n",
        "test_dataset = datasets.MNIST(root='datasets/', train=False, transform=transforms.ToTensor(), download=True)\n",
        "test_loader = DataLoader(dataset=test_dataset, batch_size=batch_size, shuffle=True)"
      ]
    },
    {
      "cell_type": "code",
      "execution_count": null,
      "metadata": {
        "id": "VvHGQtZDtO_1"
      },
      "outputs": [],
      "source": [
        "model = CNN(in_channels= in_channels, num_classes = num_classes).to(device)"
      ]
    },
    {
      "cell_type": "code",
      "execution_count": null,
      "metadata": {
        "id": "YpbdmWLAuCbM"
      },
      "outputs": [],
      "source": [
        "criterion = nn.CrossEntropyLoss()\n",
        "optimizer = optim.Adam(model.parameters(), lr = learning_rate)"
      ]
    },
    {
      "cell_type": "code",
      "execution_count": null,
      "metadata": {
        "colab": {
          "base_uri": "https://localhost:8080/"
        },
        "id": "4D2q19OsuGpc",
        "outputId": "e5408830-e001-4a72-e667-21e6c6e84985"
      },
      "outputs": [
        {
          "name": "stderr",
          "output_type": "stream",
          "text": [
            "100%|██████████| 938/938 [00:07<00:00, 122.77it/s]\n",
            "100%|██████████| 938/938 [00:08<00:00, 107.15it/s]\n",
            "100%|██████████| 938/938 [00:08<00:00, 113.66it/s]\n",
            "100%|██████████| 938/938 [00:08<00:00, 114.25it/s]\n",
            "100%|██████████| 938/938 [00:09<00:00, 99.48it/s] \n"
          ]
        }
      ],
      "source": [
        "for epoch in range(num_epochs):\n",
        "  for data_idx, (data, target) in enumerate(tqdm(train_loader)):\n",
        "\n",
        "    # get data to cuda if possible\n",
        "    data = data.to(device = device)\n",
        "    target = target.to(device = device)\n",
        "\n",
        "    # forward\n",
        "    scores = model(data)\n",
        "    loss = criterion(scores, target)\n",
        "\n",
        "    #backward\n",
        "    optimizer.zero_grad() # Essentially set all the gradients to zero for each batch\n",
        "    loss.backward()\n",
        "\n",
        "    # gradient descent or adam step\n",
        "    optimizer.step()"
      ]
    },
    {
      "cell_type": "code",
      "execution_count": null,
      "metadata": {
        "id": "NH-OeLGNu4YL"
      },
      "outputs": [],
      "source": [
        "def check_accuracy(loader, model):\n",
        "\n",
        "  if loader.dataset.train:\n",
        "    print('Checking Accuracy of train data: ')\n",
        "  else:\n",
        "    print('Checking Accuracy of test data: ')\n",
        "\n",
        "  num_correct = 0\n",
        "  num_samples = 0\n",
        "  model.eval()\n",
        "\n",
        "  with torch.no_grad():\n",
        "    # We don't have to compute the gradient that would be unnessessory computing\n",
        "    for x, y in loader:\n",
        "      x = x.to(device= device)\n",
        "      y = y.to(device = device)\n",
        "\n",
        "\n",
        "      scores = model(x)\n",
        "      _, predictions = scores.max(1)\n",
        "      num_correct += (predictions == y).sum()\n",
        "      num_samples += predictions.size(0)\n",
        "\n",
        "    print(f\"Got {num_correct} / {num_samples} with accuracy {float(num_correct)/float(num_samples)*100:.2f}\")\n",
        "  model.train()\n"
      ]
    },
    {
      "cell_type": "code",
      "execution_count": null,
      "metadata": {
        "colab": {
          "base_uri": "https://localhost:8080/"
        },
        "id": "D_xxtBbRvBCr",
        "outputId": "b140a3ca-3b46-4caf-d164-678de4e2223e"
      },
      "outputs": [
        {
          "name": "stdout",
          "output_type": "stream",
          "text": [
            "Checking Accuracy of train data: \n",
            "Got 59552 / 60000 with accuracy 99.25\n",
            "Checking Accuracy of test data: \n",
            "Got 9866 / 10000 with accuracy 98.66\n"
          ]
        }
      ],
      "source": [
        "check_accuracy(train_loader, model)\n",
        "check_accuracy(test_loader, model)\n"
      ]
    }
  ],
  "metadata": {
    "colab": {
      "provenance": []
    },
    "kernelspec": {
      "display_name": "Python 3",
      "name": "python3"
    },
    "language_info": {
      "name": "python",
      "version": "3.12.3"
    }
  },
  "nbformat": 4,
  "nbformat_minor": 0
}
