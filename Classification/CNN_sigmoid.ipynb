{
  "nbformat": 4,
  "nbformat_minor": 0,
  "metadata": {
    "colab": {
      "provenance": []
    },
    "kernelspec": {
      "name": "python3",
      "display_name": "Python 3"
    },
    "language_info": {
      "name": "python"
    }
  },
  "cells": [
    {
      "cell_type": "code",
      "execution_count": null,
      "metadata": {
        "id": "KrywcHnHfYj3"
      },
      "outputs": [],
      "source": [
        "import numpy as np\n",
        "from keras.models import Sequential\n",
        "import tensorflow as tf\n",
        "from keras.layers import Dense, Flatten, Conv2D, MaxPooling2D, Dropout\n",
        "import matplotlib.pyplot as plt\n",
        "import time"
      ]
    },
    {
      "cell_type": "code",
      "source": [
        "from keras.datasets import cifar10\n",
        "\n",
        "(x_train, y_train),(x_test, y_test) = cifar10.load_data()"
      ],
      "metadata": {
        "id": "jE9Wwsvufdvk"
      },
      "execution_count": null,
      "outputs": []
    },
    {
      "cell_type": "code",
      "source": [
        "class_names = ['airplane', 'automobile', 'bird', 'cat', 'deer', 'dog', 'frog', 'horse', 'ship', 'truck']"
      ],
      "metadata": {
        "id": "Vq_4mkPLff5i"
      },
      "execution_count": null,
      "outputs": []
    },
    {
      "cell_type": "code",
      "source": [
        "required_classes = [1, 3, 5, 9]"
      ],
      "metadata": {
        "id": "Bu4zWX-MfhPL"
      },
      "execution_count": null,
      "outputs": []
    },
    {
      "cell_type": "code",
      "source": [
        "train_index = [i for i, label in enumerate(y_train) if label in required_classes]\n",
        "test_index = [i for i, label in enumerate(y_test) if label in required_classes]\n",
        "x_train = x_train[train_index]\n",
        "y_train = y_train[train_index]\n",
        "x_test = x_test[test_index]\n",
        "y_test = y_test[test_index]"
      ],
      "metadata": {
        "id": "iPanYXhJfinL"
      },
      "execution_count": null,
      "outputs": []
    },
    {
      "cell_type": "code",
      "source": [
        "y_train[(y_train == 1)] = 0   # automobile\n",
        "y_train[(y_train == 3)] = 1   # cat\n",
        "y_train[(y_train == 5)] = 2   # dog\n",
        "y_train[(y_train == 9)] = 3   # truck\n",
        "\n",
        "y_test[(y_test == 1)] = 0   # automobile\n",
        "y_test[(y_test == 3)] = 1   # cat\n",
        "y_test[(y_test == 5)] = 2   # dog\n",
        "y_test[(y_test == 9)] = 3   # truck"
      ],
      "metadata": {
        "id": "ZfvPCVAJfkQk"
      },
      "execution_count": null,
      "outputs": []
    },
    {
      "cell_type": "code",
      "source": [
        "# one hot encode target values\n",
        "from keras.utils import to_categorical\n",
        "y_train = to_categorical(y_train)\n",
        "y_test = to_categorical(y_test)"
      ],
      "metadata": {
        "id": "1nLqqlaJfmIL"
      },
      "execution_count": null,
      "outputs": []
    },
    {
      "cell_type": "code",
      "source": [
        "x_train_filtered = x_train / 255.0\n",
        "x_test_filtered = x_test / 255.0"
      ],
      "metadata": {
        "id": "TQOKLeowfn8S"
      },
      "execution_count": null,
      "outputs": []
    },
    {
      "cell_type": "code",
      "source": [
        "model= Sequential()\n",
        "model.add(Conv2D(16,(3,3), activation=\"sigmoid\", input_shape=(32,32,3)))\n",
        "model.add(MaxPooling2D((2,2)))\n",
        "model.add(Dropout(0.25))\n",
        "\n",
        "model.add(Conv2D(32, (3,3), activation = \"sigmoid\"))\n",
        "model.add(MaxPooling2D((2,2)))\n",
        "model.add(Dropout(0.25))\n",
        "\n",
        "model.add(Conv2D(64, (3,3), activation = \"sigmoid\"))\n",
        "model.add(MaxPooling2D((2,2)))\n",
        "model.add(Dropout(0.25))\n",
        "\n",
        "model.add(Flatten())\n",
        "model.add(Dense(64, activation=\"sigmoid\"))\n",
        "\n",
        "model.add(Dense(4, activation=\"softmax\"))\n",
        "\n",
        "model.summary()"
      ],
      "metadata": {
        "colab": {
          "base_uri": "https://localhost:8080/"
        },
        "id": "ND81TC57fqaz",
        "outputId": "6d8b03d2-76f9-4095-8232-50f59e065f93"
      },
      "execution_count": null,
      "outputs": [
        {
          "output_type": "stream",
          "name": "stdout",
          "text": [
            "Model: \"sequential_2\"\n",
            "_________________________________________________________________\n",
            " Layer (type)                Output Shape              Param #   \n",
            "=================================================================\n",
            " conv2d_6 (Conv2D)           (None, 30, 30, 16)        448       \n",
            "                                                                 \n",
            " max_pooling2d_6 (MaxPooling  (None, 15, 15, 16)       0         \n",
            " 2D)                                                             \n",
            "                                                                 \n",
            " dropout_6 (Dropout)         (None, 15, 15, 16)        0         \n",
            "                                                                 \n",
            " conv2d_7 (Conv2D)           (None, 13, 13, 32)        4640      \n",
            "                                                                 \n",
            " max_pooling2d_7 (MaxPooling  (None, 6, 6, 32)         0         \n",
            " 2D)                                                             \n",
            "                                                                 \n",
            " dropout_7 (Dropout)         (None, 6, 6, 32)          0         \n",
            "                                                                 \n",
            " conv2d_8 (Conv2D)           (None, 4, 4, 64)          18496     \n",
            "                                                                 \n",
            " max_pooling2d_8 (MaxPooling  (None, 2, 2, 64)         0         \n",
            " 2D)                                                             \n",
            "                                                                 \n",
            " dropout_8 (Dropout)         (None, 2, 2, 64)          0         \n",
            "                                                                 \n",
            " flatten_2 (Flatten)         (None, 256)               0         \n",
            "                                                                 \n",
            " dense_4 (Dense)             (None, 64)                16448     \n",
            "                                                                 \n",
            " dense_5 (Dense)             (None, 4)                 260       \n",
            "                                                                 \n",
            "=================================================================\n",
            "Total params: 40,292\n",
            "Trainable params: 40,292\n",
            "Non-trainable params: 0\n",
            "_________________________________________________________________\n"
          ]
        }
      ]
    },
    {
      "cell_type": "code",
      "source": [
        "model.compile(optimizer=\"adam\", loss=tf.keras.losses.CategoricalCrossentropy(), metrics=['accuracy'])"
      ],
      "metadata": {
        "id": "204HUzwagImi"
      },
      "execution_count": null,
      "outputs": []
    },
    {
      "cell_type": "code",
      "source": [
        "print(x_train_filtered.shape)\n",
        "print(y_train.shape)\n",
        "print(x_test_filtered.shape)\n",
        "print(y_test.shape)"
      ],
      "metadata": {
        "colab": {
          "base_uri": "https://localhost:8080/"
        },
        "id": "bLvEGSbyfssi",
        "outputId": "90881870-0eaa-4613-cdb0-780089945b93"
      },
      "execution_count": null,
      "outputs": [
        {
          "output_type": "stream",
          "name": "stdout",
          "text": [
            "(20000, 32, 32, 3)\n",
            "(20000, 4)\n",
            "(4000, 32, 32, 3)\n",
            "(4000, 4)\n"
          ]
        }
      ]
    },
    {
      "cell_type": "markdown",
      "source": [
        "**Batch_size = 32**"
      ],
      "metadata": {
        "id": "ReVkebUN22Ql"
      }
    },
    {
      "cell_type": "code",
      "source": [
        "start = time.time()\n",
        "\n",
        "history = model.fit(x_train_filtered , y_train, epochs=50 , batch_size = 32, validation_data=(x_test_filtered, y_test))\n",
        "model.save('cifar.h5')\n",
        "\n",
        "end = time.time()\n",
        "print(\"Run time [s]: \",end-start)"
      ],
      "metadata": {
        "colab": {
          "base_uri": "https://localhost:8080/"
        },
        "id": "IE7bVHz621H2",
        "outputId": "5e935979-82ef-4eba-8d6e-bdb70155e65f"
      },
      "execution_count": null,
      "outputs": [
        {
          "output_type": "stream",
          "name": "stdout",
          "text": [
            "Epoch 1/50\n",
            "625/625 [==============================] - 34s 55ms/step - loss: 0.5175 - accuracy: 0.7726 - val_loss: 0.5622 - val_accuracy: 0.7598\n",
            "Epoch 2/50\n",
            "625/625 [==============================] - 20s 32ms/step - loss: 0.5178 - accuracy: 0.7740 - val_loss: 0.5566 - val_accuracy: 0.7605\n",
            "Epoch 3/50\n",
            "625/625 [==============================] - 22s 34ms/step - loss: 0.5131 - accuracy: 0.7766 - val_loss: 0.5643 - val_accuracy: 0.7605\n",
            "Epoch 4/50\n",
            "625/625 [==============================] - 22s 34ms/step - loss: 0.5157 - accuracy: 0.7745 - val_loss: 0.5652 - val_accuracy: 0.7567\n",
            "Epoch 5/50\n",
            "625/625 [==============================] - 20s 32ms/step - loss: 0.5090 - accuracy: 0.7796 - val_loss: 0.5612 - val_accuracy: 0.7650\n",
            "Epoch 6/50\n",
            "625/625 [==============================] - 23s 36ms/step - loss: 0.5094 - accuracy: 0.7782 - val_loss: 0.5731 - val_accuracy: 0.7487\n",
            "Epoch 7/50\n",
            "625/625 [==============================] - 22s 35ms/step - loss: 0.5066 - accuracy: 0.7815 - val_loss: 0.5633 - val_accuracy: 0.7573\n",
            "Epoch 8/50\n",
            "625/625 [==============================] - 20s 32ms/step - loss: 0.5049 - accuracy: 0.7813 - val_loss: 0.5556 - val_accuracy: 0.7640\n",
            "Epoch 9/50\n",
            "625/625 [==============================] - 23s 37ms/step - loss: 0.5057 - accuracy: 0.7814 - val_loss: 0.5534 - val_accuracy: 0.7648\n",
            "Epoch 10/50\n",
            "625/625 [==============================] - 20s 32ms/step - loss: 0.5080 - accuracy: 0.7788 - val_loss: 0.5601 - val_accuracy: 0.7648\n",
            "Epoch 11/50\n",
            "625/625 [==============================] - 21s 34ms/step - loss: 0.5003 - accuracy: 0.7825 - val_loss: 0.5573 - val_accuracy: 0.7623\n",
            "Epoch 12/50\n",
            "625/625 [==============================] - 22s 35ms/step - loss: 0.4961 - accuracy: 0.7817 - val_loss: 0.5656 - val_accuracy: 0.7615\n",
            "Epoch 13/50\n",
            "625/625 [==============================] - 20s 32ms/step - loss: 0.4983 - accuracy: 0.7858 - val_loss: 0.5586 - val_accuracy: 0.7648\n",
            "Epoch 14/50\n",
            "625/625 [==============================] - 22s 35ms/step - loss: 0.5013 - accuracy: 0.7835 - val_loss: 0.5571 - val_accuracy: 0.7697\n",
            "Epoch 15/50\n",
            "625/625 [==============================] - 21s 34ms/step - loss: 0.4969 - accuracy: 0.7880 - val_loss: 0.5543 - val_accuracy: 0.7700\n",
            "Epoch 16/50\n",
            "625/625 [==============================] - 20s 33ms/step - loss: 0.4950 - accuracy: 0.7854 - val_loss: 0.5655 - val_accuracy: 0.7523\n",
            "Epoch 17/50\n",
            "625/625 [==============================] - 23s 36ms/step - loss: 0.4940 - accuracy: 0.7842 - val_loss: 0.5532 - val_accuracy: 0.7655\n",
            "Epoch 18/50\n",
            "625/625 [==============================] - 22s 35ms/step - loss: 0.4877 - accuracy: 0.7893 - val_loss: 0.5510 - val_accuracy: 0.7615\n",
            "Epoch 19/50\n",
            "625/625 [==============================] - 22s 35ms/step - loss: 0.4904 - accuracy: 0.7862 - val_loss: 0.5507 - val_accuracy: 0.7653\n",
            "Epoch 20/50\n",
            "625/625 [==============================] - 22s 34ms/step - loss: 0.4868 - accuracy: 0.7881 - val_loss: 0.5636 - val_accuracy: 0.7615\n",
            "Epoch 21/50\n",
            "625/625 [==============================] - 20s 33ms/step - loss: 0.4840 - accuracy: 0.7899 - val_loss: 0.5637 - val_accuracy: 0.7632\n",
            "Epoch 22/50\n",
            "625/625 [==============================] - 21s 34ms/step - loss: 0.4866 - accuracy: 0.7901 - val_loss: 0.5562 - val_accuracy: 0.7670\n",
            "Epoch 23/50\n",
            "625/625 [==============================] - 22s 34ms/step - loss: 0.4886 - accuracy: 0.7912 - val_loss: 0.5503 - val_accuracy: 0.7640\n",
            "Epoch 24/50\n",
            "625/625 [==============================] - 20s 32ms/step - loss: 0.4839 - accuracy: 0.7902 - val_loss: 0.5505 - val_accuracy: 0.7670\n",
            "Epoch 25/50\n",
            "625/625 [==============================] - 22s 35ms/step - loss: 0.4834 - accuracy: 0.7913 - val_loss: 0.5562 - val_accuracy: 0.7635\n",
            "Epoch 26/50\n",
            "625/625 [==============================] - 22s 35ms/step - loss: 0.4853 - accuracy: 0.7911 - val_loss: 0.5499 - val_accuracy: 0.7710\n",
            "Epoch 27/50\n",
            "625/625 [==============================] - 20s 33ms/step - loss: 0.4764 - accuracy: 0.7927 - val_loss: 0.5541 - val_accuracy: 0.7717\n",
            "Epoch 28/50\n",
            "625/625 [==============================] - 22s 35ms/step - loss: 0.4835 - accuracy: 0.7907 - val_loss: 0.5627 - val_accuracy: 0.7640\n",
            "Epoch 29/50\n",
            "625/625 [==============================] - 22s 35ms/step - loss: 0.4754 - accuracy: 0.7950 - val_loss: 0.5446 - val_accuracy: 0.7685\n",
            "Epoch 30/50\n",
            "625/625 [==============================] - 21s 34ms/step - loss: 0.4821 - accuracy: 0.7926 - val_loss: 0.5539 - val_accuracy: 0.7655\n",
            "Epoch 31/50\n",
            "625/625 [==============================] - 22s 35ms/step - loss: 0.4750 - accuracy: 0.7980 - val_loss: 0.5553 - val_accuracy: 0.7657\n",
            "Epoch 32/50\n",
            "625/625 [==============================] - 21s 34ms/step - loss: 0.4809 - accuracy: 0.7913 - val_loss: 0.5475 - val_accuracy: 0.7667\n",
            "Epoch 33/50\n",
            "625/625 [==============================] - 20s 32ms/step - loss: 0.4712 - accuracy: 0.7937 - val_loss: 0.5476 - val_accuracy: 0.7682\n",
            "Epoch 34/50\n",
            "625/625 [==============================] - 22s 35ms/step - loss: 0.4746 - accuracy: 0.7920 - val_loss: 0.5563 - val_accuracy: 0.7657\n",
            "Epoch 35/50\n",
            "625/625 [==============================] - 20s 32ms/step - loss: 0.4719 - accuracy: 0.7933 - val_loss: 0.5475 - val_accuracy: 0.7613\n",
            "Epoch 36/50\n",
            "625/625 [==============================] - 21s 34ms/step - loss: 0.4692 - accuracy: 0.7964 - val_loss: 0.5547 - val_accuracy: 0.7670\n",
            "Epoch 37/50\n",
            "625/625 [==============================] - 21s 34ms/step - loss: 0.4726 - accuracy: 0.7948 - val_loss: 0.5563 - val_accuracy: 0.7602\n",
            "Epoch 38/50\n",
            "625/625 [==============================] - 20s 32ms/step - loss: 0.4717 - accuracy: 0.7941 - val_loss: 0.5480 - val_accuracy: 0.7630\n",
            "Epoch 39/50\n",
            "625/625 [==============================] - 21s 34ms/step - loss: 0.4706 - accuracy: 0.7970 - val_loss: 0.5461 - val_accuracy: 0.7685\n",
            "Epoch 40/50\n",
            "625/625 [==============================] - 20s 32ms/step - loss: 0.4698 - accuracy: 0.7979 - val_loss: 0.5415 - val_accuracy: 0.7697\n",
            "Epoch 41/50\n",
            "625/625 [==============================] - 23s 37ms/step - loss: 0.4650 - accuracy: 0.8001 - val_loss: 0.5415 - val_accuracy: 0.7690\n",
            "Epoch 42/50\n",
            "625/625 [==============================] - 21s 34ms/step - loss: 0.4684 - accuracy: 0.7991 - val_loss: 0.5494 - val_accuracy: 0.7595\n",
            "Epoch 43/50\n",
            "625/625 [==============================] - 20s 33ms/step - loss: 0.4647 - accuracy: 0.7983 - val_loss: 0.5443 - val_accuracy: 0.7707\n",
            "Epoch 44/50\n",
            "625/625 [==============================] - 22s 35ms/step - loss: 0.4639 - accuracy: 0.8012 - val_loss: 0.5409 - val_accuracy: 0.7730\n",
            "Epoch 45/50\n",
            "625/625 [==============================] - 21s 34ms/step - loss: 0.4644 - accuracy: 0.7983 - val_loss: 0.5515 - val_accuracy: 0.7573\n",
            "Epoch 46/50\n",
            "625/625 [==============================] - 20s 32ms/step - loss: 0.4550 - accuracy: 0.8044 - val_loss: 0.5423 - val_accuracy: 0.7642\n",
            "Epoch 47/50\n",
            "625/625 [==============================] - 22s 35ms/step - loss: 0.4631 - accuracy: 0.8025 - val_loss: 0.5438 - val_accuracy: 0.7678\n",
            "Epoch 48/50\n",
            "625/625 [==============================] - 20s 33ms/step - loss: 0.4592 - accuracy: 0.8017 - val_loss: 0.5517 - val_accuracy: 0.7570\n",
            "Epoch 49/50\n",
            "625/625 [==============================] - 21s 34ms/step - loss: 0.4576 - accuracy: 0.8044 - val_loss: 0.5436 - val_accuracy: 0.7657\n",
            "Epoch 50/50\n",
            "625/625 [==============================] - 22s 35ms/step - loss: 0.4526 - accuracy: 0.8059 - val_loss: 0.5489 - val_accuracy: 0.7648\n",
            "Run time [s]:  1075.0859460830688\n"
          ]
        }
      ]
    },
    {
      "cell_type": "code",
      "source": [
        "plt.figure(figsize=(4,4))\n",
        "\n",
        "plt.plot(history.history['accuracy'], label='accuracy')\n",
        "plt.plot(history.history['val_accuracy'], label='val_accuracy')\n",
        "plt.xlabel('Epochs')\n",
        "plt.ylabel('Accuracy')\n",
        "# plt.ylim([0.5,1])\n",
        "plt.legend(loc = 'lower right');"
      ],
      "metadata": {
        "colab": {
          "base_uri": "https://localhost:8080/",
          "height": 388
        },
        "id": "v8MzPgah3BTe",
        "outputId": "096e1f21-a63e-4c77-98b5-a1761a375921"
      },
      "execution_count": null,
      "outputs": [
        {
          "output_type": "display_data",
          "data": {
            "text/plain": [
              "<Figure size 400x400 with 1 Axes>"
            ],
            "image/png": "[encoded data removed]"
          },
          "metadata": {}
        }
      ]
    },
    {
      "cell_type": "code",
      "source": [
        "model.evaluate(x_test, y_test)"
      ],
      "metadata": {
        "colab": {
          "base_uri": "https://localhost:8080/"
        },
        "id": "YaVbGUt73EUF",
        "outputId": "259dee16-6c7f-4c9d-b95d-bcdca09f3b2d"
      },
      "execution_count": null,
      "outputs": [
        {
          "output_type": "stream",
          "name": "stdout",
          "text": [
            "125/125 [==============================] - 1s 9ms/step - loss: 1.4339 - accuracy: 0.2500\n"
          ]
        },
        {
          "output_type": "execute_result",
          "data": {
            "text/plain": [
              "[1.4338657855987549, 0.25]"
            ]
          },
          "metadata": {},
          "execution_count": 32
        }
      ]
    },
    {
      "cell_type": "markdown",
      "source": [
        "**Batch_size = 64**"
      ],
      "metadata": {
        "id": "C9olVSny3HXu"
      }
    },
    {
      "cell_type": "code",
      "source": [
        "start = time.time()\n",
        "\n",
        "history = model.fit(x_train_filtered , y_train, epochs=50 , batch_size = 64, validation_data=(x_test_filtered, y_test))\n",
        "model.save('cifar.h5')\n",
        "\n",
        "end = time.time()\n",
        "print(\"Run time [s]: \",end-start)"
      ],
      "metadata": {
        "colab": {
          "base_uri": "https://localhost:8080/"
        },
        "id": "nBXvsHp93KwW",
        "outputId": "dbca8a21-5b04-4392-feec-29c1b82deccb"
      },
      "execution_count": null,
      "outputs": [
        {
          "output_type": "stream",
          "name": "stdout",
          "text": [
            "Epoch 1/50\n",
            "313/313 [==============================] - 24s 72ms/step - loss: 1.3958 - accuracy: 0.2533 - val_loss: 1.3882 - val_accuracy: 0.2747\n",
            "Epoch 2/50\n",
            "313/313 [==============================] - 18s 58ms/step - loss: 1.2360 - accuracy: 0.4097 - val_loss: 1.1387 - val_accuracy: 0.4685\n",
            "Epoch 3/50\n",
            "313/313 [==============================] - 20s 62ms/step - loss: 1.1252 - accuracy: 0.4651 - val_loss: 1.0779 - val_accuracy: 0.4860\n",
            "Epoch 4/50\n",
            "313/313 [==============================] - 25s 80ms/step - loss: 1.0717 - accuracy: 0.4929 - val_loss: 1.0169 - val_accuracy: 0.5165\n",
            "Epoch 5/50\n",
            "313/313 [==============================] - 18s 58ms/step - loss: 1.0400 - accuracy: 0.5088 - val_loss: 0.9802 - val_accuracy: 0.5418\n",
            "Epoch 6/50\n",
            "313/313 [==============================] - 19s 62ms/step - loss: 0.9969 - accuracy: 0.5253 - val_loss: 0.9427 - val_accuracy: 0.5452\n",
            "Epoch 7/50\n",
            "313/313 [==============================] - 20s 63ms/step - loss: 0.9699 - accuracy: 0.5375 - val_loss: 0.9199 - val_accuracy: 0.5623\n",
            "Epoch 8/50\n",
            "313/313 [==============================] - 19s 62ms/step - loss: 0.9436 - accuracy: 0.5486 - val_loss: 0.9035 - val_accuracy: 0.5727\n",
            "Epoch 9/50\n",
            "313/313 [==============================] - 19s 59ms/step - loss: 0.9296 - accuracy: 0.5592 - val_loss: 0.8752 - val_accuracy: 0.5970\n",
            "Epoch 10/50\n",
            "313/313 [==============================] - 20s 63ms/step - loss: 0.9086 - accuracy: 0.5685 - val_loss: 0.8698 - val_accuracy: 0.5962\n",
            "Epoch 11/50\n",
            "313/313 [==============================] - 18s 59ms/step - loss: 0.8959 - accuracy: 0.5792 - val_loss: 0.8532 - val_accuracy: 0.6097\n",
            "Epoch 12/50\n",
            "313/313 [==============================] - 20s 63ms/step - loss: 0.8913 - accuracy: 0.5804 - val_loss: 0.8366 - val_accuracy: 0.6127\n",
            "Epoch 13/50\n",
            "313/313 [==============================] - 18s 58ms/step - loss: 0.8755 - accuracy: 0.5877 - val_loss: 0.8477 - val_accuracy: 0.6095\n",
            "Epoch 14/50\n",
            "313/313 [==============================] - 20s 63ms/step - loss: 0.8654 - accuracy: 0.5967 - val_loss: 0.8298 - val_accuracy: 0.5987\n",
            "Epoch 15/50\n",
            "313/313 [==============================] - 19s 59ms/step - loss: 0.8508 - accuracy: 0.6007 - val_loss: 0.8176 - val_accuracy: 0.6177\n",
            "Epoch 16/50\n",
            "313/313 [==============================] - 19s 61ms/step - loss: 0.8473 - accuracy: 0.6045 - val_loss: 0.8016 - val_accuracy: 0.6348\n",
            "Epoch 17/50\n",
            "313/313 [==============================] - 19s 61ms/step - loss: 0.8395 - accuracy: 0.6119 - val_loss: 0.7974 - val_accuracy: 0.6465\n",
            "Epoch 18/50\n",
            "313/313 [==============================] - 19s 59ms/step - loss: 0.8327 - accuracy: 0.6137 - val_loss: 0.7826 - val_accuracy: 0.6535\n",
            "Epoch 19/50\n",
            "313/313 [==============================] - 20s 62ms/step - loss: 0.8253 - accuracy: 0.6189 - val_loss: 0.7869 - val_accuracy: 0.6478\n",
            "Epoch 20/50\n",
            "313/313 [==============================] - 20s 64ms/step - loss: 0.8238 - accuracy: 0.6195 - val_loss: 0.7980 - val_accuracy: 0.6308\n",
            "Epoch 21/50\n",
            "313/313 [==============================] - 20s 63ms/step - loss: 0.8167 - accuracy: 0.6209 - val_loss: 0.7699 - val_accuracy: 0.6628\n",
            "Epoch 22/50\n",
            "313/313 [==============================] - 19s 60ms/step - loss: 0.8046 - accuracy: 0.6308 - val_loss: 0.7630 - val_accuracy: 0.6658\n",
            "Epoch 23/50\n",
            "313/313 [==============================] - 20s 63ms/step - loss: 0.8024 - accuracy: 0.6319 - val_loss: 0.7639 - val_accuracy: 0.6547\n",
            "Epoch 24/50\n",
            "313/313 [==============================] - 19s 61ms/step - loss: 0.7990 - accuracy: 0.6298 - val_loss: 0.7876 - val_accuracy: 0.6607\n",
            "Epoch 25/50\n",
            "313/313 [==============================] - 20s 63ms/step - loss: 0.7880 - accuracy: 0.6351 - val_loss: 0.7454 - val_accuracy: 0.6715\n",
            "Epoch 26/50\n",
            "313/313 [==============================] - 18s 59ms/step - loss: 0.7823 - accuracy: 0.6413 - val_loss: 0.7396 - val_accuracy: 0.6787\n",
            "Epoch 27/50\n",
            "313/313 [==============================] - 20s 64ms/step - loss: 0.7790 - accuracy: 0.6398 - val_loss: 0.7366 - val_accuracy: 0.6810\n",
            "Epoch 28/50\n",
            "313/313 [==============================] - 18s 59ms/step - loss: 0.7757 - accuracy: 0.6436 - val_loss: 0.7318 - val_accuracy: 0.6780\n",
            "Epoch 29/50\n",
            "313/313 [==============================] - 20s 64ms/step - loss: 0.7642 - accuracy: 0.6479 - val_loss: 0.7265 - val_accuracy: 0.6865\n",
            "Epoch 30/50\n",
            "313/313 [==============================] - 19s 60ms/step - loss: 0.7606 - accuracy: 0.6509 - val_loss: 0.7439 - val_accuracy: 0.6727\n",
            "Epoch 31/50\n",
            "313/313 [==============================] - 20s 65ms/step - loss: 0.7565 - accuracy: 0.6512 - val_loss: 0.7158 - val_accuracy: 0.6913\n",
            "Epoch 32/50\n",
            "313/313 [==============================] - 19s 59ms/step - loss: 0.7531 - accuracy: 0.6546 - val_loss: 0.7137 - val_accuracy: 0.6885\n",
            "Epoch 33/50\n",
            "313/313 [==============================] - 21s 68ms/step - loss: 0.7454 - accuracy: 0.6608 - val_loss: 0.7112 - val_accuracy: 0.6908\n",
            "Epoch 34/50\n",
            "313/313 [==============================] - 19s 61ms/step - loss: 0.7407 - accuracy: 0.6621 - val_loss: 0.7235 - val_accuracy: 0.6840\n",
            "Epoch 35/50\n",
            "313/313 [==============================] - 20s 65ms/step - loss: 0.7375 - accuracy: 0.6642 - val_loss: 0.7364 - val_accuracy: 0.6802\n",
            "Epoch 36/50\n",
            "313/313 [==============================] - 19s 61ms/step - loss: 0.7354 - accuracy: 0.6660 - val_loss: 0.6995 - val_accuracy: 0.6927\n",
            "Epoch 37/50\n",
            "313/313 [==============================] - 20s 65ms/step - loss: 0.7249 - accuracy: 0.6707 - val_loss: 0.7106 - val_accuracy: 0.6873\n",
            "Epoch 38/50\n",
            "313/313 [==============================] - 19s 61ms/step - loss: 0.7241 - accuracy: 0.6726 - val_loss: 0.6976 - val_accuracy: 0.6908\n",
            "Epoch 39/50\n",
            "313/313 [==============================] - 20s 64ms/step - loss: 0.7228 - accuracy: 0.6723 - val_loss: 0.6837 - val_accuracy: 0.7025\n",
            "Epoch 40/50\n",
            "313/313 [==============================] - 19s 61ms/step - loss: 0.7166 - accuracy: 0.6719 - val_loss: 0.6842 - val_accuracy: 0.6938\n",
            "Epoch 41/50\n",
            "313/313 [==============================] - 20s 64ms/step - loss: 0.7070 - accuracy: 0.6836 - val_loss: 0.6822 - val_accuracy: 0.6973\n",
            "Epoch 42/50\n",
            "313/313 [==============================] - 19s 61ms/step - loss: 0.7080 - accuracy: 0.6801 - val_loss: 0.6818 - val_accuracy: 0.7030\n",
            "Epoch 43/50\n",
            "313/313 [==============================] - 21s 66ms/step - loss: 0.6991 - accuracy: 0.6837 - val_loss: 0.6781 - val_accuracy: 0.7030\n",
            "Epoch 44/50\n",
            "313/313 [==============================] - 19s 61ms/step - loss: 0.7017 - accuracy: 0.6813 - val_loss: 0.6806 - val_accuracy: 0.7015\n",
            "Epoch 45/50\n",
            "313/313 [==============================] - 22s 69ms/step - loss: 0.6975 - accuracy: 0.6863 - val_loss: 0.6738 - val_accuracy: 0.7040\n",
            "Epoch 46/50\n",
            "313/313 [==============================] - 20s 65ms/step - loss: 0.6917 - accuracy: 0.6873 - val_loss: 0.6666 - val_accuracy: 0.7040\n",
            "Epoch 47/50\n",
            "313/313 [==============================] - 19s 61ms/step - loss: 0.6931 - accuracy: 0.6906 - val_loss: 0.6635 - val_accuracy: 0.7140\n",
            "Epoch 48/50\n",
            "313/313 [==============================] - 20s 65ms/step - loss: 0.6893 - accuracy: 0.6862 - val_loss: 0.6645 - val_accuracy: 0.7103\n",
            "Epoch 49/50\n",
            "313/313 [==============================] - 19s 61ms/step - loss: 0.6865 - accuracy: 0.6919 - val_loss: 0.6626 - val_accuracy: 0.7160\n",
            "Epoch 50/50\n",
            "313/313 [==============================] - 21s 66ms/step - loss: 0.6772 - accuracy: 0.6941 - val_loss: 0.6582 - val_accuracy: 0.7122\n",
            "Run time [s]:  984.3809373378754\n"
          ]
        }
      ]
    },
    {
      "cell_type": "code",
      "source": [
        "plt.figure(figsize=(4,4))\n",
        "\n",
        "plt.plot(history.history['accuracy'], label='accuracy')\n",
        "plt.plot(history.history['val_accuracy'], label='val_accuracy')\n",
        "plt.xlabel('Epochs')\n",
        "plt.ylabel('Accuracy')\n",
        "# plt.ylim([0.5,1])\n",
        "plt.legend(loc = 'lower right');\n"
      ],
      "metadata": {
        "colab": {
          "base_uri": "https://localhost:8080/",
          "height": 388
        },
        "id": "2KfSELbU3P6l",
        "outputId": "41e174ab-9d13-4422-d6ce-c93ce37fa98a"
      },
      "execution_count": null,
      "outputs": [
        {
          "output_type": "display_data",
          "data": {
            "text/plain": [
              "<Figure size 400x400 with 1 Axes>"
            ],
            "image/png": "[encoded data removed]"
          },
          "metadata": {}
        }
      ]
    },
    {
      "cell_type": "code",
      "source": [
        "model.evaluate(x_test, y_test)"
      ],
      "metadata": {
        "colab": {
          "base_uri": "https://localhost:8080/"
        },
        "id": "nJd3VAVI3VvN",
        "outputId": "f6ece763-94d4-486d-a613-c3093f2771f6"
      },
      "execution_count": null,
      "outputs": [
        {
          "output_type": "stream",
          "name": "stdout",
          "text": [
            "125/125 [==============================] - 1s 9ms/step - loss: 1.0965 - accuracy: 0.4685\n"
          ]
        },
        {
          "output_type": "execute_result",
          "data": {
            "text/plain": [
              "[1.096512794494629, 0.4684999883174896]"
            ]
          },
          "metadata": {},
          "execution_count": 35
        }
      ]
    },
    {
      "cell_type": "markdown",
      "source": [
        "**Batch_size = 128**"
      ],
      "metadata": {
        "id": "vuAmL3a23YBF"
      }
    },
    {
      "cell_type": "code",
      "source": [
        "start = time.time()\n",
        "\n",
        "history = model.fit(x_train_filtered , y_train, epochs=50 , batch_size = 128, validation_data=(x_test_filtered, y_test))\n",
        "model.save('cifar.h5')\n",
        "\n",
        "end = time.time()\n",
        "print(\"Run time [s]: \",end-start)"
      ],
      "metadata": {
        "id": "hRLrbRqs3aKt",
        "colab": {
          "base_uri": "https://localhost:8080/"
        },
        "outputId": "d7db4021-227e-4df4-dcc3-59bf7ae34289"
      },
      "execution_count": null,
      "outputs": [
        {
          "output_type": "stream",
          "name": "stdout",
          "text": [
            "Epoch 1/50\n",
            "157/157 [==============================] - 18s 113ms/step - loss: 0.6682 - accuracy: 0.7036 - val_loss: 0.6580 - val_accuracy: 0.7090\n",
            "Epoch 2/50\n",
            "157/157 [==============================] - 20s 126ms/step - loss: 0.6702 - accuracy: 0.7020 - val_loss: 0.6556 - val_accuracy: 0.7138\n",
            "Epoch 3/50\n",
            "157/157 [==============================] - 28s 179ms/step - loss: 0.6649 - accuracy: 0.6981 - val_loss: 0.6539 - val_accuracy: 0.7155\n",
            "Epoch 4/50\n",
            "157/157 [==============================] - 18s 112ms/step - loss: 0.6661 - accuracy: 0.7032 - val_loss: 0.6553 - val_accuracy: 0.7140\n",
            "Epoch 5/50\n",
            "157/157 [==============================] - 19s 118ms/step - loss: 0.6660 - accuracy: 0.7025 - val_loss: 0.6501 - val_accuracy: 0.7200\n",
            "Epoch 6/50\n",
            "157/157 [==============================] - 18s 112ms/step - loss: 0.6617 - accuracy: 0.7012 - val_loss: 0.6491 - val_accuracy: 0.7160\n",
            "Epoch 7/50\n",
            "157/157 [==============================] - 20s 125ms/step - loss: 0.6646 - accuracy: 0.7009 - val_loss: 0.6479 - val_accuracy: 0.7157\n",
            "Epoch 8/50\n",
            "157/157 [==============================] - 18s 116ms/step - loss: 0.6571 - accuracy: 0.7065 - val_loss: 0.6478 - val_accuracy: 0.7160\n",
            "Epoch 9/50\n",
            "157/157 [==============================] - 18s 112ms/step - loss: 0.6582 - accuracy: 0.7042 - val_loss: 0.6492 - val_accuracy: 0.7130\n",
            "Epoch 10/50\n",
            "157/157 [==============================] - 18s 115ms/step - loss: 0.6561 - accuracy: 0.7061 - val_loss: 0.6429 - val_accuracy: 0.7265\n",
            "Epoch 11/50\n",
            "157/157 [==============================] - 18s 113ms/step - loss: 0.6588 - accuracy: 0.7077 - val_loss: 0.6403 - val_accuracy: 0.7172\n",
            "Epoch 12/50\n",
            "157/157 [==============================] - 19s 118ms/step - loss: 0.6554 - accuracy: 0.7103 - val_loss: 0.6410 - val_accuracy: 0.7212\n",
            "Epoch 13/50\n",
            "157/157 [==============================] - 18s 113ms/step - loss: 0.6506 - accuracy: 0.7110 - val_loss: 0.6365 - val_accuracy: 0.7175\n",
            "Epoch 14/50\n",
            "157/157 [==============================] - 18s 113ms/step - loss: 0.6403 - accuracy: 0.7127 - val_loss: 0.6395 - val_accuracy: 0.7200\n",
            "Epoch 15/50\n",
            "157/157 [==============================] - 19s 120ms/step - loss: 0.6423 - accuracy: 0.7125 - val_loss: 0.6359 - val_accuracy: 0.7240\n",
            "Epoch 16/50\n",
            "157/157 [==============================] - 19s 121ms/step - loss: 0.6437 - accuracy: 0.7128 - val_loss: 0.6347 - val_accuracy: 0.7225\n",
            "Epoch 17/50\n",
            "157/157 [==============================] - 19s 118ms/step - loss: 0.6449 - accuracy: 0.7114 - val_loss: 0.6344 - val_accuracy: 0.7195\n",
            "Epoch 18/50\n",
            "157/157 [==============================] - 18s 113ms/step - loss: 0.6442 - accuracy: 0.7142 - val_loss: 0.6362 - val_accuracy: 0.7197\n",
            "Epoch 19/50\n",
            "157/157 [==============================] - 19s 122ms/step - loss: 0.6377 - accuracy: 0.7173 - val_loss: 0.6419 - val_accuracy: 0.7245\n",
            "Epoch 20/50\n",
            "157/157 [==============================] - 17s 109ms/step - loss: 0.6363 - accuracy: 0.7162 - val_loss: 0.6315 - val_accuracy: 0.7272\n",
            "Epoch 21/50\n",
            "157/157 [==============================] - 18s 113ms/step - loss: 0.6424 - accuracy: 0.7136 - val_loss: 0.6296 - val_accuracy: 0.7287\n",
            "Epoch 22/50\n",
            "157/157 [==============================] - 19s 121ms/step - loss: 0.6337 - accuracy: 0.7211 - val_loss: 0.6253 - val_accuracy: 0.7243\n",
            "Epoch 23/50\n",
            "157/157 [==============================] - 17s 110ms/step - loss: 0.6286 - accuracy: 0.7215 - val_loss: 0.6354 - val_accuracy: 0.7225\n",
            "Epoch 24/50\n",
            "157/157 [==============================] - 19s 123ms/step - loss: 0.6353 - accuracy: 0.7196 - val_loss: 0.6344 - val_accuracy: 0.7253\n",
            "Epoch 25/50\n",
            "157/157 [==============================] - 18s 113ms/step - loss: 0.6322 - accuracy: 0.7197 - val_loss: 0.6269 - val_accuracy: 0.7283\n",
            "Epoch 26/50\n",
            "157/157 [==============================] - 18s 112ms/step - loss: 0.6260 - accuracy: 0.7212 - val_loss: 0.6210 - val_accuracy: 0.7297\n",
            "Epoch 27/50\n",
            "157/157 [==============================] - 19s 120ms/step - loss: 0.6264 - accuracy: 0.7229 - val_loss: 0.6297 - val_accuracy: 0.7250\n",
            "Epoch 28/50\n",
            "157/157 [==============================] - 17s 110ms/step - loss: 0.6306 - accuracy: 0.7184 - val_loss: 0.6191 - val_accuracy: 0.7312\n",
            "Epoch 29/50\n",
            "157/157 [==============================] - 19s 118ms/step - loss: 0.6237 - accuracy: 0.7225 - val_loss: 0.6251 - val_accuracy: 0.7278\n",
            "Epoch 30/50\n",
            "157/157 [==============================] - 19s 122ms/step - loss: 0.6169 - accuracy: 0.7258 - val_loss: 0.6187 - val_accuracy: 0.7387\n",
            "Epoch 31/50\n",
            "157/157 [==============================] - 18s 113ms/step - loss: 0.6209 - accuracy: 0.7241 - val_loss: 0.6171 - val_accuracy: 0.7327\n",
            "Epoch 32/50\n",
            "157/157 [==============================] - 19s 121ms/step - loss: 0.6214 - accuracy: 0.7256 - val_loss: 0.6170 - val_accuracy: 0.7368\n",
            "Epoch 33/50\n",
            "157/157 [==============================] - 18s 113ms/step - loss: 0.6169 - accuracy: 0.7266 - val_loss: 0.6161 - val_accuracy: 0.7362\n",
            "Epoch 34/50\n",
            "157/157 [==============================] - 19s 122ms/step - loss: 0.6171 - accuracy: 0.7251 - val_loss: 0.6097 - val_accuracy: 0.7372\n",
            "Epoch 35/50\n",
            "157/157 [==============================] - 18s 113ms/step - loss: 0.6127 - accuracy: 0.7280 - val_loss: 0.6185 - val_accuracy: 0.7312\n",
            "Epoch 36/50\n",
            "157/157 [==============================] - 17s 110ms/step - loss: 0.6111 - accuracy: 0.7309 - val_loss: 0.6101 - val_accuracy: 0.7360\n",
            "Epoch 37/50\n",
            "157/157 [==============================] - 19s 121ms/step - loss: 0.6114 - accuracy: 0.7293 - val_loss: 0.6217 - val_accuracy: 0.7275\n",
            "Epoch 38/50\n",
            "157/157 [==============================] - 18s 113ms/step - loss: 0.6087 - accuracy: 0.7329 - val_loss: 0.6109 - val_accuracy: 0.7368\n",
            "Epoch 39/50\n",
            "157/157 [==============================] - 18s 118ms/step - loss: 0.6043 - accuracy: 0.7353 - val_loss: 0.6103 - val_accuracy: 0.7370\n",
            "Epoch 40/50\n",
            "157/157 [==============================] - 17s 110ms/step - loss: 0.6013 - accuracy: 0.7340 - val_loss: 0.6067 - val_accuracy: 0.7380\n",
            "Epoch 41/50\n",
            "157/157 [==============================] - 17s 110ms/step - loss: 0.6073 - accuracy: 0.7319 - val_loss: 0.6048 - val_accuracy: 0.7343\n",
            "Epoch 42/50\n",
            "157/157 [==============================] - 19s 121ms/step - loss: 0.6010 - accuracy: 0.7357 - val_loss: 0.6090 - val_accuracy: 0.7420\n",
            "Epoch 43/50\n",
            "157/157 [==============================] - 20s 127ms/step - loss: 0.6021 - accuracy: 0.7357 - val_loss: 0.6036 - val_accuracy: 0.7393\n",
            "Epoch 44/50\n",
            "157/157 [==============================] - 19s 121ms/step - loss: 0.5978 - accuracy: 0.7350 - val_loss: 0.6052 - val_accuracy: 0.7393\n",
            "Epoch 45/50\n",
            "157/157 [==============================] - 18s 113ms/step - loss: 0.5943 - accuracy: 0.7351 - val_loss: 0.6031 - val_accuracy: 0.7423\n",
            "Epoch 46/50\n",
            "157/157 [==============================] - 18s 113ms/step - loss: 0.5981 - accuracy: 0.7353 - val_loss: 0.6017 - val_accuracy: 0.7435\n",
            "Epoch 47/50\n",
            "157/157 [==============================] - 19s 118ms/step - loss: 0.5966 - accuracy: 0.7393 - val_loss: 0.6055 - val_accuracy: 0.7415\n",
            "Epoch 48/50\n",
            "157/157 [==============================] - 18s 113ms/step - loss: 0.5951 - accuracy: 0.7382 - val_loss: 0.6019 - val_accuracy: 0.7410\n",
            "Epoch 49/50\n",
            "157/157 [==============================] - 19s 119ms/step - loss: 0.5982 - accuracy: 0.7374 - val_loss: 0.6007 - val_accuracy: 0.7430\n",
            "Epoch 50/50\n",
            "157/157 [==============================] - 18s 113ms/step - loss: 0.5913 - accuracy: 0.7389 - val_loss: 0.6016 - val_accuracy: 0.7458\n",
            "Run time [s]:  922.6452403068542\n"
          ]
        }
      ]
    },
    {
      "cell_type": "code",
      "source": [
        "plt.figure(figsize=(4,4))\n",
        "\n",
        "plt.plot(history.history['accuracy'], label='accuracy')\n",
        "plt.plot(history.history['val_accuracy'], label='val_accuracy')\n",
        "plt.xlabel('Epochs')\n",
        "plt.ylabel('Accuracy')\n",
        "# plt.ylim([0.5,1])\n",
        "plt.legend(loc = 'lower right');\n"
      ],
      "metadata": {
        "id": "eL9MZtxm3d19",
        "colab": {
          "base_uri": "https://localhost:8080/",
          "height": 388
        },
        "outputId": "3ce64100-ced6-410a-a6c5-39aa657ae703"
      },
      "execution_count": null,
      "outputs": [
        {
          "output_type": "display_data",
          "data": {
            "text/plain": [
              "<Figure size 400x400 with 1 Axes>"
            ],
            "image/png": "[encoded data removed]"
          },
          "metadata": {}
        }
      ]
    },
    {
      "cell_type": "code",
      "source": [
        "model.evaluate(x_test, y_test)"
      ],
      "metadata": {
        "id": "yn4ZOSOt3hwV",
        "colab": {
          "base_uri": "https://localhost:8080/"
        },
        "outputId": "c7a43270-bd00-4152-d4ea-ad2a31cc330f"
      },
      "execution_count": null,
      "outputs": [
        {
          "output_type": "stream",
          "name": "stdout",
          "text": [
            "125/125 [==============================] - 1s 9ms/step - loss: 1.1000 - accuracy: 0.5098\n"
          ]
        },
        {
          "output_type": "execute_result",
          "data": {
            "text/plain": [
              "[1.099961280822754, 0.5097500085830688]"
            ]
          },
          "metadata": {},
          "execution_count": 39
        }
      ]
    }
  ]
}